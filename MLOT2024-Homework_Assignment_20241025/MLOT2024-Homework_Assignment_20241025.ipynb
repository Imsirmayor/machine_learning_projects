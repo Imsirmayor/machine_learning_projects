{
 "cells": [
  {
   "cell_type": "markdown",
   "metadata": {},
   "source": [
    "## Instructions\n",
    "\n",
    "This homework consists of 6 major tasks listed below (as a reminder - we start indexing at 0). The number of points granted for each task and subtask is given in this text and in the appropriate cells. Some tips are also given within the task explanation text. Please read everything carefully.\n",
    "\n",
    "### Task list\n",
    "\n",
    "#### 0. Understand the problem  [1 Point]\n",
    "Explain in one-two paragraphs the dataset, and what type of ML algorithms are applicable on this dataset.\n",
    "\n",
    "#### 1. Exploratory data analysis  [1 Point]\n",
    "Some basic data stastics and information.\n",
    "\n",
    "#### 2. Missing values  [1 Point]\n",
    "Detect and display the total number on NaN values in the dataset, and variables that have NaN values.\n",
    "\n",
    "#### 3. Visual exploratory data analysis, incl. detecting outliers [1 Point]\n",
    "Display histograms and box plots of all numerical features.\n",
    "\n",
    "#### 4. Data standardisation [3 Points]\n",
    "Two different methods for data standardisation, covered in the lectures, are to be implemented here.\n",
    "\n",
    "#### 5. Data transformation [3 Points + 2 Bonus Points]\n",
    "Two different methods for data transformation, covered in the lectures, are to be implemented here.\n",
    "Additonally, a data transformation method that was not mentioned in the lecture is added here as a bonus task that can add 2 bonus points to the total score.\n",
    "\n",
    "### General note\n",
    "\n",
    "* Columns = variables = features\n",
    "* Raws = feature vectors\n",
    "* The howework shall be done in view of this jupyter notebook. Please do not add additional files. If there is a discussion of results required, please use a markdown cell in this notebook to do so.\n",
    "\n",
    "### Submission\n",
    "\n",
    "* For submission all notebook cells must be evaluated. \n",
    "* Please name your homowerk like this: MLOT2023-Homework_Asignment_YYYYMMDD_LastName.ipynb (YYYYMMDD should be the date of your submission, and the LastName your last name).\n",
    "* Submit this assignment via Moodle at latest on December 1st, 2023 \n",
    "\n",
    "### Grading\n",
    "* In total you can get 10 points if all requirements are entirely met. In order to succeed you need at least 5 point.\n",
    "\n",
    "* Bonus points\n",
    "    + An additional data transformation method that was not mentioned in the lecture is added here as a bonus task that can add 2 bonus points to the total score.\n",
    "\n"
   ]
  },
  {
   "cell_type": "code",
   "execution_count": 1,
   "metadata": {},
   "outputs": [],
   "source": [
    "import numpy as np # linear algebra\n",
    "import pandas as pd # data processing\n",
    "import matplotlib.pyplot as plt\n",
    "import seaborn as sns  # visualization tool"
   ]
  },
  {
   "cell_type": "code",
   "execution_count": 2,
   "metadata": {},
   "outputs": [
    {
     "name": "stdout",
     "output_type": "stream",
     "text": [
      "{'data':         Id  MSSubClass MSZoning  LotFrontage  LotArea Street Alley LotShape  \\\n",
      "0        1          60       RL         65.0     8450   Pave   NaN      Reg   \n",
      "1        2          20       RL         80.0     9600   Pave   NaN      Reg   \n",
      "2        3          60       RL         68.0    11250   Pave   NaN      IR1   \n",
      "3        4          70       RL         60.0     9550   Pave   NaN      IR1   \n",
      "4        5          60       RL         84.0    14260   Pave   NaN      IR1   \n",
      "...    ...         ...      ...          ...      ...    ...   ...      ...   \n",
      "1455  1456          60       RL         62.0     7917   Pave   NaN      Reg   \n",
      "1456  1457          20       RL         85.0    13175   Pave   NaN      Reg   \n",
      "1457  1458          70       RL         66.0     9042   Pave   NaN      Reg   \n",
      "1458  1459          20       RL         68.0     9717   Pave   NaN      Reg   \n",
      "1459  1460          20       RL         75.0     9937   Pave   NaN      Reg   \n",
      "\n",
      "     LandContour Utilities  ... ScreenPorch PoolArea PoolQC  Fence  \\\n",
      "0            Lvl    AllPub  ...           0        0    NaN    NaN   \n",
      "1            Lvl    AllPub  ...           0        0    NaN    NaN   \n",
      "2            Lvl    AllPub  ...           0        0    NaN    NaN   \n",
      "3            Lvl    AllPub  ...           0        0    NaN    NaN   \n",
      "4            Lvl    AllPub  ...           0        0    NaN    NaN   \n",
      "...          ...       ...  ...         ...      ...    ...    ...   \n",
      "1455         Lvl    AllPub  ...           0        0    NaN    NaN   \n",
      "1456         Lvl    AllPub  ...           0        0    NaN  MnPrv   \n",
      "1457         Lvl    AllPub  ...           0        0    NaN  GdPrv   \n",
      "1458         Lvl    AllPub  ...           0        0    NaN    NaN   \n",
      "1459         Lvl    AllPub  ...           0        0    NaN    NaN   \n",
      "\n",
      "     MiscFeature MiscVal MoSold  YrSold  SaleType  SaleCondition  \n",
      "0            NaN       0      2    2008        WD         Normal  \n",
      "1            NaN       0      5    2007        WD         Normal  \n",
      "2            NaN       0      9    2008        WD         Normal  \n",
      "3            NaN       0      2    2006        WD        Abnorml  \n",
      "4            NaN       0     12    2008        WD         Normal  \n",
      "...          ...     ...    ...     ...       ...            ...  \n",
      "1455         NaN       0      8    2007        WD         Normal  \n",
      "1456         NaN       0      2    2010        WD         Normal  \n",
      "1457        Shed    2500      5    2010        WD         Normal  \n",
      "1458         NaN       0      4    2010        WD         Normal  \n",
      "1459         NaN       0      6    2008        WD         Normal  \n",
      "\n",
      "[1460 rows x 80 columns], 'target': 0       208500\n",
      "1       181500\n",
      "2       223500\n",
      "3       140000\n",
      "4       250000\n",
      "         ...  \n",
      "1455    175000\n",
      "1456    210000\n",
      "1457    266500\n",
      "1458    142125\n",
      "1459    147500\n",
      "Name: SalePrice, Length: 1460, dtype: int64, 'frame':         Id  MSSubClass MSZoning  LotFrontage  LotArea Street Alley LotShape  \\\n",
      "0        1          60       RL         65.0     8450   Pave   NaN      Reg   \n",
      "1        2          20       RL         80.0     9600   Pave   NaN      Reg   \n",
      "2        3          60       RL         68.0    11250   Pave   NaN      IR1   \n",
      "3        4          70       RL         60.0     9550   Pave   NaN      IR1   \n",
      "4        5          60       RL         84.0    14260   Pave   NaN      IR1   \n",
      "...    ...         ...      ...          ...      ...    ...   ...      ...   \n",
      "1455  1456          60       RL         62.0     7917   Pave   NaN      Reg   \n",
      "1456  1457          20       RL         85.0    13175   Pave   NaN      Reg   \n",
      "1457  1458          70       RL         66.0     9042   Pave   NaN      Reg   \n",
      "1458  1459          20       RL         68.0     9717   Pave   NaN      Reg   \n",
      "1459  1460          20       RL         75.0     9937   Pave   NaN      Reg   \n",
      "\n",
      "     LandContour Utilities  ... PoolArea PoolQC  Fence MiscFeature MiscVal  \\\n",
      "0            Lvl    AllPub  ...        0    NaN    NaN         NaN       0   \n",
      "1            Lvl    AllPub  ...        0    NaN    NaN         NaN       0   \n",
      "2            Lvl    AllPub  ...        0    NaN    NaN         NaN       0   \n",
      "3            Lvl    AllPub  ...        0    NaN    NaN         NaN       0   \n",
      "4            Lvl    AllPub  ...        0    NaN    NaN         NaN       0   \n",
      "...          ...       ...  ...      ...    ...    ...         ...     ...   \n",
      "1455         Lvl    AllPub  ...        0    NaN    NaN         NaN       0   \n",
      "1456         Lvl    AllPub  ...        0    NaN  MnPrv         NaN       0   \n",
      "1457         Lvl    AllPub  ...        0    NaN  GdPrv        Shed    2500   \n",
      "1458         Lvl    AllPub  ...        0    NaN    NaN         NaN       0   \n",
      "1459         Lvl    AllPub  ...        0    NaN    NaN         NaN       0   \n",
      "\n",
      "     MoSold YrSold  SaleType  SaleCondition  SalePrice  \n",
      "0         2   2008        WD         Normal     208500  \n",
      "1         5   2007        WD         Normal     181500  \n",
      "2         9   2008        WD         Normal     223500  \n",
      "3         2   2006        WD        Abnorml     140000  \n",
      "4        12   2008        WD         Normal     250000  \n",
      "...     ...    ...       ...            ...        ...  \n",
      "1455      8   2007        WD         Normal     175000  \n",
      "1456      2   2010        WD         Normal     210000  \n",
      "1457      5   2010        WD         Normal     266500  \n",
      "1458      4   2010        WD         Normal     142125  \n",
      "1459      6   2008        WD         Normal     147500  \n",
      "\n",
      "[1460 rows x 81 columns], 'categories': None, 'feature_names': ['Id', 'MSSubClass', 'MSZoning', 'LotFrontage', 'LotArea', 'Street', 'Alley', 'LotShape', 'LandContour', 'Utilities', 'LotConfig', 'LandSlope', 'Neighborhood', 'Condition1', 'Condition2', 'BldgType', 'HouseStyle', 'OverallQual', 'OverallCond', 'YearBuilt', 'YearRemodAdd', 'RoofStyle', 'RoofMatl', 'Exterior1st', 'Exterior2nd', 'MasVnrType', 'MasVnrArea', 'ExterQual', 'ExterCond', 'Foundation', 'BsmtQual', 'BsmtCond', 'BsmtExposure', 'BsmtFinType1', 'BsmtFinSF1', 'BsmtFinType2', 'BsmtFinSF2', 'BsmtUnfSF', 'TotalBsmtSF', 'Heating', 'HeatingQC', 'CentralAir', 'Electrical', '1stFlrSF', '2ndFlrSF', 'LowQualFinSF', 'GrLivArea', 'BsmtFullBath', 'BsmtHalfBath', 'FullBath', 'HalfBath', 'BedroomAbvGr', 'KitchenAbvGr', 'KitchenQual', 'TotRmsAbvGrd', 'Functional', 'Fireplaces', 'FireplaceQu', 'GarageType', 'GarageYrBlt', 'GarageFinish', 'GarageCars', 'GarageArea', 'GarageQual', 'GarageCond', 'PavedDrive', 'WoodDeckSF', 'OpenPorchSF', 'EnclosedPorch', '3SsnPorch', 'ScreenPorch', 'PoolArea', 'PoolQC', 'Fence', 'MiscFeature', 'MiscVal', 'MoSold', 'YrSold', 'SaleType', 'SaleCondition'], 'target_names': ['SalePrice'], 'DESCR': \"Ask a home buyer to describe their dream house, and they probably won't begin with the height of the basement ceiling or the proximity to an east-west railroad. But this playground competition's dataset proves that much more influences price negotiations than the number of bedrooms or a white-picket fence.\\n\\nWith 79 explanatory variables describing (almost) every aspect of residential homes in Ames, Iowa, this competition challenges you to predict the final price of each home.\\n\\nMSSubClass: Identifies the type of dwelling involved in the sale.\\t\\n\\n        20\\t1-STORY 1946 & NEWER ALL STYLES\\n        30\\t1-STORY 1945 & OLDER\\n        40\\t1-STORY W/FINISHED ATTIC ALL AGES\\n        45\\t1-1/2 STORY - UNFINISHED ALL AGES\\n        50\\t1-1/2 STORY FINISHED ALL AGES\\n        60\\t2-STORY 1946 & NEWER\\n        70\\t2-STORY 1945 & OLDER\\n        75\\t2-1/2 STORY ALL AGES\\n        80\\tSPLIT OR MULTI-LEVEL\\n        85\\tSPLIT FOYER\\n        90\\tDUPLEX - ALL STYLES AND AGES\\n       120\\t1-STORY PUD (Planned Unit Development) - 1946 & NEWER\\n       150\\t1-1/2 STORY PUD - ALL AGES\\n       160\\t2-STORY PUD - 1946 & NEWER\\n       180\\tPUD - MULTILEVEL - INCL SPLIT LEV/FOYER\\n       190\\t2 FAMILY CONVERSION - ALL STYLES AND AGES\\n\\nMSZoning: Identifies the general zoning classification of the sale.\\n\\t\\t\\n       A\\tAgriculture\\n       C\\tCommercial\\n       FV\\tFloating Village Residential\\n       I\\tIndustrial\\n       RH\\tResidential High Density\\n       RL\\tResidential Low Density\\n       RP\\tResidential Low Density Park \\n       RM\\tResidential Medium Density\\n\\t\\nLotFrontage: Linear feet of street connected to property\\n\\nLotArea: Lot size in square feet\\n\\nStreet: Type of road access to property\\n\\n       Grvl\\tGravel\\t\\n       Pave\\tPaved\\n       \\t\\nAlley: Type of alley access to property\\n\\n       Grvl\\tGravel\\n       Pave\\tPaved\\n       NA \\tNo alley access\\n\\t\\t\\nLotShape: General shape of property\\n\\n       Reg\\tRegular\\t\\n       IR1\\tSlightly irregular\\n       IR2\\tModerately Irregular\\n       IR3\\tIrregular\\n       \\nLandContour: Flatness of the property\\n\\n       Lvl\\tNear Flat/Level\\t\\n       Bnk\\tBanked - Quick and significant rise from street grade to building\\n       HLS\\tHillside - Significant slope from side to side\\n       Low\\tDepression\\n\\t\\t\\nUtilities: Type of utilities available\\n\\t\\t\\n       AllPub\\tAll public Utilities (E,G,W,& S)\\t\\n       NoSewr\\tElectricity, Gas, and Water (Septic Tank)\\n       NoSeWa\\tElectricity and Gas Only\\n       ELO\\tElectricity only\\t\\n\\t\\nLotConfig: Lot configuration\\n\\n       Inside\\tInside lot\\n       Corner\\tCorner lot\\n       CulDSac\\tCul-de-sac\\n       FR2\\tFrontage on 2 sides of property\\n       FR3\\tFrontage on 3 sides of property\\n\\t\\nLandSlope: Slope of property\\n\\t\\t\\n       Gtl\\tGentle slope\\n       Mod\\tModerate Slope\\t\\n       Sev\\tSevere Slope\\n\\t\\nNeighborhood: Physical locations within Ames city limits\\n\\n       Blmngtn\\tBloomington Heights\\n       Blueste\\tBluestem\\n       BrDale\\tBriardale\\n       BrkSide\\tBrookside\\n       ClearCr\\tClear Creek\\n       CollgCr\\tCollege Creek\\n       Crawfor\\tCrawford\\n       Edwards\\tEdwards\\n       Gilbert\\tGilbert\\n       IDOTRR\\tIowa DOT and Rail Road\\n       MeadowV\\tMeadow Village\\n       Mitchel\\tMitchell\\n       Names\\tNorth Ames\\n       NoRidge\\tNorthridge\\n       NPkVill\\tNorthpark Villa\\n       NridgHt\\tNorthridge Heights\\n       NWAmes\\tNorthwest Ames\\n       OldTown\\tOld Town\\n       SWISU\\tSouth & West of Iowa State University\\n       Sawyer\\tSawyer\\n       SawyerW\\tSawyer West\\n       Somerst\\tSomerset\\n       StoneBr\\tStone Brook\\n       Timber\\tTimberland\\n       Veenker\\tVeenker\\n\\t\\t\\t\\nCondition1: Proximity to various conditions\\n\\t\\n       Artery\\tAdjacent to arterial street\\n       Feedr\\tAdjacent to feeder street\\t\\n       Norm\\tNormal\\t\\n       RRNn\\tWithin 200' of North-South Railroad\\n       RRAn\\tAdjacent to North-South Railroad\\n       PosN\\tNear positive off-site feature--park, greenbelt, etc.\\n       PosA\\tAdjacent to postive off-site feature\\n       RRNe\\tWithin 200' of East-West Railroad\\n       RRAe\\tAdjacent to East-West Railroad\\n\\t\\nCondition2: Proximity to various conditions (if more than one is present)\\n\\t\\t\\n       Artery\\tAdjacent to arterial street\\n       Feedr\\tAdjacent to feeder street\\t\\n       Norm\\tNormal\\t\\n       RRNn\\tWithin 200' of North-South Railroad\\n       RRAn\\tAdjacent to North-South Railroad\\n       PosN\\tNear positive off-site feature--park, greenbelt, etc.\\n       PosA\\tAdjacent to postive off-site feature\\n       RRNe\\tWithin 200' of East-West Railroad\\n       RRAe\\tAdjacent to East-West Railroad\\n\\t\\nBldgType: Type of dwelling\\n\\t\\t\\n       1Fam\\tSingle-family Detached\\t\\n       2FmCon\\tTwo-family Conversion; originally built as one-family dwelling\\n       Duplx\\tDuplex\\n       TwnhsE\\tTownhouse End Unit\\n       TwnhsI\\tTownhouse Inside Unit\\n\\t\\nHouseStyle: Style of dwelling\\n\\t\\n       1Story\\tOne story\\n       1.5Fin\\tOne and one-half story: 2nd level finished\\n       1.5Unf\\tOne and one-half story: 2nd level unfinished\\n       2Story\\tTwo story\\n       2.5Fin\\tTwo and one-half story: 2nd level finished\\n       2.5Unf\\tTwo and one-half story: 2nd level unfinished\\n       SFoyer\\tSplit Foyer\\n       SLvl\\tSplit Level\\n\\t\\nOverallQual: Rates the overall material and finish of the house\\n\\n       10\\tVery Excellent\\n       9\\tExcellent\\n       8\\tVery Good\\n       7\\tGood\\n       6\\tAbove Average\\n       5\\tAverage\\n       4\\tBelow Average\\n       3\\tFair\\n       2\\tPoor\\n       1\\tVery Poor\\n\\t\\nOverallCond: Rates the overall condition of the house\\n\\n       10\\tVery Excellent\\n       9\\tExcellent\\n       8\\tVery Good\\n       7\\tGood\\n       6\\tAbove Average\\t\\n       5\\tAverage\\n       4\\tBelow Average\\t\\n       3\\tFair\\n       2\\tPoor\\n       1\\tVery Poor\\n\\t\\t\\nYearBuilt: Original construction date\\n\\nYearRemodAdd: Remodel date (same as construction date if no remodeling or additions)\\n\\nRoofStyle: Type of roof\\n\\n       Flat\\tFlat\\n       Gable\\tGable\\n       Gambrel\\tGabrel (Barn)\\n       Hip\\tHip\\n       Mansard\\tMansard\\n       Shed\\tShed\\n\\t\\t\\nRoofMatl: Roof material\\n\\n       ClyTile\\tClay or Tile\\n       CompShg\\tStandard (Composite) Shingle\\n       Membran\\tMembrane\\n       Metal\\tMetal\\n       Roll\\tRoll\\n       Tar&Grv\\tGravel & Tar\\n       WdShake\\tWood Shakes\\n       WdShngl\\tWood Shingles\\n\\t\\t\\nExterior1st: Exterior covering on house\\n\\n       AsbShng\\tAsbestos Shingles\\n       AsphShn\\tAsphalt Shingles\\n       BrkComm\\tBrick Common\\n       BrkFace\\tBrick Face\\n       CBlock\\tCinder Block\\n       CemntBd\\tCement Board\\n       HdBoard\\tHard Board\\n       ImStucc\\tImitation Stucco\\n       MetalSd\\tMetal Siding\\n       Other\\tOther\\n       Plywood\\tPlywood\\n       PreCast\\tPreCast\\t\\n       Stone\\tStone\\n       Stucco\\tStucco\\n       VinylSd\\tVinyl Siding\\n       Wd Sdng\\tWood Siding\\n       WdShing\\tWood Shingles\\n\\t\\nExterior2nd: Exterior covering on house (if more than one material)\\n\\n       AsbShng\\tAsbestos Shingles\\n       AsphShn\\tAsphalt Shingles\\n       BrkComm\\tBrick Common\\n       BrkFace\\tBrick Face\\n       CBlock\\tCinder Block\\n       CemntBd\\tCement Board\\n       HdBoard\\tHard Board\\n       ImStucc\\tImitation Stucco\\n       MetalSd\\tMetal Siding\\n       Other\\tOther\\n       Plywood\\tPlywood\\n       PreCast\\tPreCast\\n       Stone\\tStone\\n       Stucco\\tStucco\\n       VinylSd\\tVinyl Siding\\n       Wd Sdng\\tWood Siding\\n       WdShing\\tWood Shingles\\n\\t\\nMasVnrType: Masonry veneer type\\n\\n       BrkCmn\\tBrick Common\\n       BrkFace\\tBrick Face\\n       CBlock\\tCinder Block\\n       None\\tNone\\n       Stone\\tStone\\n\\t\\nMasVnrArea: Masonry veneer area in square feet\\n\\nExterQual: Evaluates the quality of the material on the exterior \\n\\t\\t\\n       Ex\\tExcellent\\n       Gd\\tGood\\n       TA\\tAverage/Typical\\n       Fa\\tFair\\n       Po\\tPoor\\n\\t\\t\\nExterCond: Evaluates the present condition of the material on the exterior\\n\\t\\t\\n       Ex\\tExcellent\\n       Gd\\tGood\\n       TA\\tAverage/Typical\\n       Fa\\tFair\\n       Po\\tPoor\\n\\t\\t\\nFoundation: Type of foundation\\n\\t\\t\\n       BrkTil\\tBrick & Tile\\n       CBlock\\tCinder Block\\n       PConc\\tPoured Contrete\\t\\n       Slab\\tSlab\\n       Stone\\tStone\\n       Wood\\tWood\\n\\t\\t\\nBsmtQual: Evaluates the height of the basement\\n\\n       Ex\\tExcellent (100+ inches)\\t\\n       Gd\\tGood (90-99 inches)\\n       TA\\tTypical (80-89 inches)\\n       Fa\\tFair (70-79 inches)\\n       Po\\tPoor (<70 inches\\n       NA\\tNo Basement\\n\\t\\t\\nBsmtCond: Evaluates the general condition of the basement\\n\\n       Ex\\tExcellent\\n       Gd\\tGood\\n       TA\\tTypical - slight dampness allowed\\n       Fa\\tFair - dampness or some cracking or settling\\n       Po\\tPoor - Severe cracking, settling, or wetness\\n       NA\\tNo Basement\\n\\t\\nBsmtExposure: Refers to walkout or garden level walls\\n\\n       Gd\\tGood Exposure\\n       Av\\tAverage Exposure (split levels or foyers typically score average or above)\\t\\n       Mn\\tMimimum Exposure\\n       No\\tNo Exposure\\n       NA\\tNo Basement\\n\\t\\nBsmtFinType1: Rating of basement finished area\\n\\n       GLQ\\tGood Living Quarters\\n       ALQ\\tAverage Living Quarters\\n       BLQ\\tBelow Average Living Quarters\\t\\n       Rec\\tAverage Rec Room\\n       LwQ\\tLow Quality\\n       Unf\\tUnfinshed\\n       NA\\tNo Basement\\n\\t\\t\\nBsmtFinSF1: Type 1 finished square feet\\n\\nBsmtFinType2: Rating of basement finished area (if multiple types)\\n\\n       GLQ\\tGood Living Quarters\\n       ALQ\\tAverage Living Quarters\\n       BLQ\\tBelow Average Living Quarters\\t\\n       Rec\\tAverage Rec Room\\n       LwQ\\tLow Quality\\n       Unf\\tUnfinshed\\n       NA\\tNo Basement\\n\\nBsmtFinSF2: Type 2 finished square feet\\n\\nBsmtUnfSF: Unfinished square feet of basement area\\n\\nTotalBsmtSF: Total square feet of basement area\\n\\nHeating: Type of heating\\n\\t\\t\\n       Floor\\tFloor Furnace\\n       GasA\\tGas forced warm air furnace\\n       GasW\\tGas hot water or steam heat\\n       Grav\\tGravity furnace\\t\\n       OthW\\tHot water or steam heat other than gas\\n       Wall\\tWall furnace\\n\\t\\t\\nHeatingQC: Heating quality and condition\\n\\n       Ex\\tExcellent\\n       Gd\\tGood\\n       TA\\tAverage/Typical\\n       Fa\\tFair\\n       Po\\tPoor\\n\\t\\t\\nCentralAir: Central air conditioning\\n\\n       N\\tNo\\n       Y\\tYes\\n\\t\\t\\nElectrical: Electrical system\\n\\n       SBrkr\\tStandard Circuit Breakers & Romex\\n       FuseA\\tFuse Box over 60 AMP and all Romex wiring (Average)\\t\\n       FuseF\\t60 AMP Fuse Box and mostly Romex wiring (Fair)\\n       FuseP\\t60 AMP Fuse Box and mostly knob & tube wiring (poor)\\n       Mix\\tMixed\\n\\t\\t\\n1stFlrSF: First Floor square feet\\n \\n2ndFlrSF: Second floor square feet\\n\\nLowQualFinSF: Low quality finished square feet (all floors)\\n\\nGrLivArea: Above grade (ground) living area square feet\\n\\nBsmtFullBath: Basement full bathrooms\\n\\nBsmtHalfBath: Basement half bathrooms\\n\\nFullBath: Full bathrooms above grade\\n\\nHalfBath: Half baths above grade\\n\\nBedroom: Bedrooms above grade (does NOT include basement bedrooms)\\n\\nKitchen: Kitchens above grade\\n\\nKitchenQual: Kitchen quality\\n\\n       Ex\\tExcellent\\n       Gd\\tGood\\n       TA\\tTypical/Average\\n       Fa\\tFair\\n       Po\\tPoor\\n       \\t\\nTotRmsAbvGrd: Total rooms above grade (does not include bathrooms)\\n\\nFunctional: Home functionality (Assume typical unless deductions are warranted)\\n\\n       Typ\\tTypical Functionality\\n       Min1\\tMinor Deductions 1\\n       Min2\\tMinor Deductions 2\\n       Mod\\tModerate Deductions\\n       Maj1\\tMajor Deductions 1\\n       Maj2\\tMajor Deductions 2\\n       Sev\\tSeverely Damaged\\n       Sal\\tSalvage only\\n\\t\\t\\nFireplaces: Number of fireplaces\\n\\nFireplaceQu: Fireplace quality\\n\\n       Ex\\tExcellent - Exceptional Masonry Fireplace\\n       Gd\\tGood - Masonry Fireplace in main level\\n       TA\\tAverage - Prefabricated Fireplace in main living area or Masonry Fireplace in basement\\n       Fa\\tFair - Prefabricated Fireplace in basement\\n       Po\\tPoor - Ben Franklin Stove\\n       NA\\tNo Fireplace\\n\\t\\t\\nGarageType: Garage location\\n\\t\\t\\n       2Types\\tMore than one type of garage\\n       Attchd\\tAttached to home\\n       Basment\\tBasement Garage\\n       BuiltIn\\tBuilt-In (Garage part of house - typically has room above garage)\\n       CarPort\\tCar Port\\n       Detchd\\tDetached from home\\n       NA\\tNo Garage\\n\\t\\t\\nGarageYrBlt: Year garage was built\\n\\t\\t\\nGarageFinish: Interior finish of the garage\\n\\n       Fin\\tFinished\\n       RFn\\tRough Finished\\t\\n       Unf\\tUnfinished\\n       NA\\tNo Garage\\n\\t\\t\\nGarageCars: Size of garage in car capacity\\n\\nGarageArea: Size of garage in square feet\\n\\nGarageQual: Garage quality\\n\\n       Ex\\tExcellent\\n       Gd\\tGood\\n       TA\\tTypical/Average\\n       Fa\\tFair\\n       Po\\tPoor\\n       NA\\tNo Garage\\n\\t\\t\\nGarageCond: Garage condition\\n\\n       Ex\\tExcellent\\n       Gd\\tGood\\n       TA\\tTypical/Average\\n       Fa\\tFair\\n       Po\\tPoor\\n       NA\\tNo Garage\\n\\t\\t\\nPavedDrive: Paved driveway\\n\\n       Y\\tPaved \\n       P\\tPartial Pavement\\n       N\\tDirt/Gravel\\n\\t\\t\\nWoodDeckSF: Wood deck area in square feet\\n\\nOpenPorchSF: Open porch area in square feet\\n\\nEnclosedPorch: Enclosed porch area in square feet\\n\\n3SsnPorch: Three season porch area in square feet\\n\\nScreenPorch: Screen porch area in square feet\\n\\nPoolArea: Pool area in square feet\\n\\nPoolQC: Pool quality\\n\\t\\t\\n       Ex\\tExcellent\\n       Gd\\tGood\\n       TA\\tAverage/Typical\\n       Fa\\tFair\\n       NA\\tNo Pool\\n\\t\\t\\nFence: Fence quality\\n\\t\\t\\n       GdPrv\\tGood Privacy\\n       MnPrv\\tMinimum Privacy\\n       GdWo\\tGood Wood\\n       MnWw\\tMinimum Wood/Wire\\n       NA\\tNo Fence\\n\\t\\nMiscFeature: Miscellaneous feature not covered in other categories\\n\\t\\t\\n       Elev\\tElevator\\n       Gar2\\t2nd Garage (if not described in garage section)\\n       Othr\\tOther\\n       Shed\\tShed (over 100 SF)\\n       TenC\\tTennis Court\\n       NA\\tNone\\n\\t\\t\\nMiscVal: $Value of miscellaneous feature\\n\\nMoSold: Month Sold (MM)\\n\\nYrSold: Year Sold (YYYY)\\n\\nSaleType: Type of sale\\n\\t\\t\\n       WD \\tWarranty Deed - Conventional\\n       CWD\\tWarranty Deed - Cash\\n       VWD\\tWarranty Deed - VA Loan\\n       New\\tHome just constructed and sold\\n       COD\\tCourt Officer Deed/Estate\\n       Con\\tContract 15% Down payment regular terms\\n       ConLw\\tContract Low Down payment and low interest\\n       ConLI\\tContract Low Interest\\n       ConLD\\tContract Low Down\\n       Oth\\tOther\\n\\t\\t\\nSaleCondition: Condition of sale\\n\\n       Normal\\tNormal Sale\\n       Abnorml\\tAbnormal Sale -  trade, foreclosure, short sale\\n       AdjLand\\tAdjoining Land Purchase\\n       Alloca\\tAllocation - two linked properties with separate deeds, typically condo with a garage unit\\t\\n       Family\\tSale between family members\\n       Partial\\tHome was not completed when last assessed (associated with New Homes)\\n\\nDownloaded from openml.org.\", 'details': {'id': '42165', 'name': 'house_prices', 'version': '1', 'description_version': '1', 'format': 'arff', 'creator': 'OkCupid', 'collection_date': 'NA', 'upload_date': '2019-10-04T12:57:32', 'language': 'English', 'licence': 'NA', 'url': 'https://api.openml.org/data/v1/download/21754539/house_prices.arff', 'parquet_url': 'https://openml1.win.tue.nl/datasets/0004/42165/dataset_42165.pq', 'file_id': '21754539', 'default_target_attribute': 'SalePrice', 'version_label': '0.1', 'tag': 'Economics', 'visibility': 'public', 'original_data_url': 'https://www.kaggle.com/c/house-prices-advanced-regression-techniques/overview', 'paper_url': 'https://www.kaggle.com/c/house-prices-advanced-regression-techniques/overview', 'minio_url': 'https://openml1.win.tue.nl/datasets/0004/42165/dataset_42165.pq', 'status': 'active', 'processing_date': '2019-10-04 12:58:02', 'md5_checksum': 'd5ca59f8d02b1b1c127034392c0f995f'}, 'url': 'https://www.openml.org/d/42165'}\n"
     ]
    }
   ],
   "source": [
    "## load dataset\n",
    "from sklearn import datasets\n",
    "\n",
    "## Uncomment your dataset\n",
    "\n",
    "## Student No. 1\n",
    "#Selected_dataset = datasets.fetch_california_housing()\n",
    "\n",
    "## Student No. 2\n",
    "#Selected_dataset = datasets.load_iris()\n",
    "\n",
    "## Student No. 3\n",
    "#Selected_dataset = datasets.load_diabetes()\n",
    "\n",
    "## Student No. 4\n",
    "#Selected_dataset = datasets.load_linnerud()\n",
    "\n",
    "## Student No. 5\n",
    "#Selected_dataset = datasets.load_wine()\n",
    "\n",
    "## Student No. 6\n",
    "#Selected_dataset = datasets.fetch_covtype()\n",
    "\n",
    "## Student No. 7\n",
    "#Selected_dataset = datasets.fetch_kddcup99()\n",
    "\n",
    "## Student No. 8\n",
    "Selected_dataset = datasets.fetch_openml(name=\"house_prices\", as_frame=True)\n",
    "\n",
    "## Student No. 9\n",
    "#Selected_dataset = datasets.load_breast_cancer\n",
    "print(Selected_dataset)\n"
   ]
  },
  {
   "cell_type": "markdown",
   "metadata": {},
   "source": [
    "## 0. Understand the problem [1 Point]\n",
    "\n",
    "TODO 0.1 Explain in one-two paragraphs the dataset, and what type of ML algorithms are applicable to this dataset. [1 Point]\n",
    "\n",
    "Useful link: [https://scikit-learn.org/stable/datasets.html]"
   ]
  },
  {
   "cell_type": "markdown",
   "metadata": {},
   "source": [
    "Base on the lecture note the type of data set used here is a combined data set because it have n_samples * n_features, as it have more than one parameters which is used to determine the house prices. The type of algorithim used is A learning algorithm, which adjust based on the wieght of the input data. "
   ]
  },
  {
   "cell_type": "markdown",
   "metadata": {},
   "source": [
    "## 1. Exploratory data analysis  [1 Point]"
   ]
  },
  {
   "cell_type": "code",
   "execution_count": 3,
   "metadata": {},
   "outputs": [
    {
     "name": "stdout",
     "output_type": "stream",
     "text": [
      "        Id  MSSubClass MSZoning  LotFrontage  LotArea Street Alley LotShape  \\\n",
      "0        1          60       RL         65.0     8450   Pave   NaN      Reg   \n",
      "1        2          20       RL         80.0     9600   Pave   NaN      Reg   \n",
      "2        3          60       RL         68.0    11250   Pave   NaN      IR1   \n",
      "3        4          70       RL         60.0     9550   Pave   NaN      IR1   \n",
      "4        5          60       RL         84.0    14260   Pave   NaN      IR1   \n",
      "...    ...         ...      ...          ...      ...    ...   ...      ...   \n",
      "1455  1456          60       RL         62.0     7917   Pave   NaN      Reg   \n",
      "1456  1457          20       RL         85.0    13175   Pave   NaN      Reg   \n",
      "1457  1458          70       RL         66.0     9042   Pave   NaN      Reg   \n",
      "1458  1459          20       RL         68.0     9717   Pave   NaN      Reg   \n",
      "1459  1460          20       RL         75.0     9937   Pave   NaN      Reg   \n",
      "\n",
      "     LandContour Utilities  ... PoolArea PoolQC  Fence MiscFeature MiscVal  \\\n",
      "0            Lvl    AllPub  ...        0    NaN    NaN         NaN       0   \n",
      "1            Lvl    AllPub  ...        0    NaN    NaN         NaN       0   \n",
      "2            Lvl    AllPub  ...        0    NaN    NaN         NaN       0   \n",
      "3            Lvl    AllPub  ...        0    NaN    NaN         NaN       0   \n",
      "4            Lvl    AllPub  ...        0    NaN    NaN         NaN       0   \n",
      "...          ...       ...  ...      ...    ...    ...         ...     ...   \n",
      "1455         Lvl    AllPub  ...        0    NaN    NaN         NaN       0   \n",
      "1456         Lvl    AllPub  ...        0    NaN  MnPrv         NaN       0   \n",
      "1457         Lvl    AllPub  ...        0    NaN  GdPrv        Shed    2500   \n",
      "1458         Lvl    AllPub  ...        0    NaN    NaN         NaN       0   \n",
      "1459         Lvl    AllPub  ...        0    NaN    NaN         NaN       0   \n",
      "\n",
      "     MoSold YrSold  SaleType  SaleCondition  Target  \n",
      "0         2   2008        WD         Normal  208500  \n",
      "1         5   2007        WD         Normal  181500  \n",
      "2         9   2008        WD         Normal  223500  \n",
      "3         2   2006        WD        Abnorml  140000  \n",
      "4        12   2008        WD         Normal  250000  \n",
      "...     ...    ...       ...            ...     ...  \n",
      "1455      8   2007        WD         Normal  175000  \n",
      "1456      2   2010        WD         Normal  210000  \n",
      "1457      5   2010        WD         Normal  266500  \n",
      "1458      4   2010        WD         Normal  142125  \n",
      "1459      6   2008        WD         Normal  147500  \n",
      "\n",
      "[1460 rows x 81 columns]\n"
     ]
    }
   ],
   "source": [
    "# TODO 1.1 Transform data from np array to pandas dataframe [0,5 Points]\n",
    "# Tip - do not fortet to add 'target' array as the last column to the dataframe, with the name 'Target'.\n",
    "# Some more tips:\n",
    "# print(Selected_dataset.data)\n",
    "# print(Selected_dataset.target)\n",
    "#print(Selected_dataset.feature_names)\n",
    "pandas_dataframe = pd.DataFrame(Selected_dataset.data, columns=Selected_dataset.feature_names)\n",
    "pandas_dataframe['Target'] = Selected_dataset.target\n",
    "print(pandas_dataframe)"
   ]
  },
  {
   "cell_type": "code",
   "execution_count": 4,
   "metadata": {},
   "outputs": [
    {
     "name": "stdout",
     "output_type": "stream",
     "text": [
      "   Id  MSSubClass MSZoning  LotFrontage  LotArea Street Alley LotShape  \\\n",
      "0   1          60       RL         65.0     8450   Pave   NaN      Reg   \n",
      "1   2          20       RL         80.0     9600   Pave   NaN      Reg   \n",
      "2   3          60       RL         68.0    11250   Pave   NaN      IR1   \n",
      "3   4          70       RL         60.0     9550   Pave   NaN      IR1   \n",
      "4   5          60       RL         84.0    14260   Pave   NaN      IR1   \n",
      "5   6          50       RL         85.0    14115   Pave   NaN      IR1   \n",
      "6   7          20       RL         75.0    10084   Pave   NaN      Reg   \n",
      "\n",
      "  LandContour Utilities  ... PoolArea PoolQC  Fence MiscFeature MiscVal  \\\n",
      "0         Lvl    AllPub  ...        0    NaN    NaN         NaN       0   \n",
      "1         Lvl    AllPub  ...        0    NaN    NaN         NaN       0   \n",
      "2         Lvl    AllPub  ...        0    NaN    NaN         NaN       0   \n",
      "3         Lvl    AllPub  ...        0    NaN    NaN         NaN       0   \n",
      "4         Lvl    AllPub  ...        0    NaN    NaN         NaN       0   \n",
      "5         Lvl    AllPub  ...        0    NaN  MnPrv        Shed     700   \n",
      "6         Lvl    AllPub  ...        0    NaN    NaN         NaN       0   \n",
      "\n",
      "  MoSold YrSold  SaleType  SaleCondition  Target  \n",
      "0      2   2008        WD         Normal  208500  \n",
      "1      5   2007        WD         Normal  181500  \n",
      "2      9   2008        WD         Normal  223500  \n",
      "3      2   2006        WD        Abnorml  140000  \n",
      "4     12   2008        WD         Normal  250000  \n",
      "5     10   2009        WD         Normal  143000  \n",
      "6      8   2007        WD         Normal  307000  \n",
      "\n",
      "[7 rows x 81 columns]         Id  MSSubClass MSZoning  LotFrontage  LotArea Street Alley LotShape  \\\n",
      "1454  1455          20       FV         62.0     7500   Pave  Pave      Reg   \n",
      "1455  1456          60       RL         62.0     7917   Pave   NaN      Reg   \n",
      "1456  1457          20       RL         85.0    13175   Pave   NaN      Reg   \n",
      "1457  1458          70       RL         66.0     9042   Pave   NaN      Reg   \n",
      "1458  1459          20       RL         68.0     9717   Pave   NaN      Reg   \n",
      "1459  1460          20       RL         75.0     9937   Pave   NaN      Reg   \n",
      "\n",
      "     LandContour Utilities  ... PoolArea PoolQC  Fence MiscFeature MiscVal  \\\n",
      "1454         Lvl    AllPub  ...        0    NaN    NaN         NaN       0   \n",
      "1455         Lvl    AllPub  ...        0    NaN    NaN         NaN       0   \n",
      "1456         Lvl    AllPub  ...        0    NaN  MnPrv         NaN       0   \n",
      "1457         Lvl    AllPub  ...        0    NaN  GdPrv        Shed    2500   \n",
      "1458         Lvl    AllPub  ...        0    NaN    NaN         NaN       0   \n",
      "1459         Lvl    AllPub  ...        0    NaN    NaN         NaN       0   \n",
      "\n",
      "     MoSold YrSold  SaleType  SaleCondition  Target  \n",
      "1454     10   2009        WD         Normal  185000  \n",
      "1455      8   2007        WD         Normal  175000  \n",
      "1456      2   2010        WD         Normal  210000  \n",
      "1457      5   2010        WD         Normal  266500  \n",
      "1458      4   2010        WD         Normal  142125  \n",
      "1459      6   2008        WD         Normal  147500  \n",
      "\n",
      "[6 rows x 81 columns]\n"
     ]
    }
   ],
   "source": [
    "# TODO 1.2 Display shape, 7 heading and 6 last rows of data [0,1 Points]\n",
    "# pandas_dataframe.shape\n",
    "print(pandas_dataframe.head(7), pandas_dataframe.tail(6))\n"
   ]
  },
  {
   "cell_type": "code",
   "execution_count": 5,
   "metadata": {},
   "outputs": [
    {
     "name": "stdout",
     "output_type": "stream",
     "text": [
      "['Id', 'MSSubClass', 'MSZoning', 'LotFrontage', 'LotArea', 'Street', 'Alley', 'LotShape', 'LandContour', 'Utilities', 'LotConfig', 'LandSlope', 'Neighborhood', 'Condition1', 'Condition2', 'BldgType', 'HouseStyle', 'OverallQual', 'OverallCond', 'YearBuilt', 'YearRemodAdd', 'RoofStyle', 'RoofMatl', 'Exterior1st', 'Exterior2nd', 'MasVnrType', 'MasVnrArea', 'ExterQual', 'ExterCond', 'Foundation', 'BsmtQual', 'BsmtCond', 'BsmtExposure', 'BsmtFinType1', 'BsmtFinSF1', 'BsmtFinType2', 'BsmtFinSF2', 'BsmtUnfSF', 'TotalBsmtSF', 'Heating', 'HeatingQC', 'CentralAir', 'Electrical', '1stFlrSF', '2ndFlrSF', 'LowQualFinSF', 'GrLivArea', 'BsmtFullBath', 'BsmtHalfBath', 'FullBath', 'HalfBath', 'BedroomAbvGr', 'KitchenAbvGr', 'KitchenQual', 'TotRmsAbvGrd', 'Functional', 'Fireplaces', 'FireplaceQu', 'GarageType', 'GarageYrBlt', 'GarageFinish', 'GarageCars', 'GarageArea', 'GarageQual', 'GarageCond', 'PavedDrive', 'WoodDeckSF', 'OpenPorchSF', 'EnclosedPorch', '3SsnPorch', 'ScreenPorch', 'PoolArea', 'PoolQC', 'Fence', 'MiscFeature', 'MiscVal', 'MoSold', 'YrSold', 'SaleType', 'SaleCondition']\n"
     ]
    }
   ],
   "source": [
    "# TODO 1.3 Display feature names [0,1 Points]\n",
    "print(Selected_dataset.feature_names)\n",
    "# print(pandas_dataframe.columns)"
   ]
  },
  {
   "cell_type": "code",
   "execution_count": 6,
   "metadata": {},
   "outputs": [
    {
     "data": {
      "text/plain": [
       "Id                 int64\n",
       "MSSubClass         int64\n",
       "MSZoning          object\n",
       "LotFrontage      float64\n",
       "LotArea            int64\n",
       "                  ...   \n",
       "MoSold             int64\n",
       "YrSold             int64\n",
       "SaleType          object\n",
       "SaleCondition     object\n",
       "Target             int64\n",
       "Length: 81, dtype: object"
      ]
     },
     "execution_count": 6,
     "metadata": {},
     "output_type": "execute_result"
    }
   ],
   "source": [
    "# TODO 1.4 Display feature/data types [0,1 Points]\n",
    "pandas_dataframe.dtypes\n",
    "# pandas_dataframe.info()"
   ]
  },
  {
   "cell_type": "code",
   "execution_count": 7,
   "metadata": {},
   "outputs": [
    {
     "name": "stdout",
     "output_type": "stream",
     "text": [
      "                Id   MSSubClass  LotFrontage        LotArea  OverallQual  \\\n",
      "count  1460.000000  1460.000000  1201.000000    1460.000000  1460.000000   \n",
      "mean    730.500000    56.897260    70.049958   10516.828082     6.099315   \n",
      "std     421.610009    42.300571    24.284752    9981.264932     1.382997   \n",
      "min       1.000000    20.000000    21.000000    1300.000000     1.000000   \n",
      "25%     365.750000    20.000000    59.000000    7553.500000     5.000000   \n",
      "50%     730.500000    50.000000    69.000000    9478.500000     6.000000   \n",
      "75%    1095.250000    70.000000    80.000000   11601.500000     7.000000   \n",
      "max    1460.000000   190.000000   313.000000  215245.000000    10.000000   \n",
      "\n",
      "       OverallCond    YearBuilt  YearRemodAdd   MasVnrArea   BsmtFinSF1  ...  \\\n",
      "count  1460.000000  1460.000000   1460.000000  1452.000000  1460.000000  ...   \n",
      "mean      5.575342  1971.267808   1984.865753   103.685262   443.639726  ...   \n",
      "std       1.112799    30.202904     20.645407   181.066207   456.098091  ...   \n",
      "min       1.000000  1872.000000   1950.000000     0.000000     0.000000  ...   \n",
      "25%       5.000000  1954.000000   1967.000000     0.000000     0.000000  ...   \n",
      "50%       5.000000  1973.000000   1994.000000     0.000000   383.500000  ...   \n",
      "75%       6.000000  2000.000000   2004.000000   166.000000   712.250000  ...   \n",
      "max       9.000000  2010.000000   2010.000000  1600.000000  5644.000000  ...   \n",
      "\n",
      "        WoodDeckSF  OpenPorchSF  EnclosedPorch    3SsnPorch  ScreenPorch  \\\n",
      "count  1460.000000  1460.000000    1460.000000  1460.000000  1460.000000   \n",
      "mean     94.244521    46.660274      21.954110     3.409589    15.060959   \n",
      "std     125.338794    66.256028      61.119149    29.317331    55.757415   \n",
      "min       0.000000     0.000000       0.000000     0.000000     0.000000   \n",
      "25%       0.000000     0.000000       0.000000     0.000000     0.000000   \n",
      "50%       0.000000    25.000000       0.000000     0.000000     0.000000   \n",
      "75%     168.000000    68.000000       0.000000     0.000000     0.000000   \n",
      "max     857.000000   547.000000     552.000000   508.000000   480.000000   \n",
      "\n",
      "          PoolArea       MiscVal       MoSold       YrSold         Target  \n",
      "count  1460.000000   1460.000000  1460.000000  1460.000000    1460.000000  \n",
      "mean      2.758904     43.489041     6.321918  2007.815753  180921.195890  \n",
      "std      40.177307    496.123024     2.703626     1.328095   79442.502883  \n",
      "min       0.000000      0.000000     1.000000  2006.000000   34900.000000  \n",
      "25%       0.000000      0.000000     5.000000  2007.000000  129975.000000  \n",
      "50%       0.000000      0.000000     6.000000  2008.000000  163000.000000  \n",
      "75%       0.000000      0.000000     8.000000  2009.000000  214000.000000  \n",
      "max     738.000000  15500.000000    12.000000  2010.000000  755000.000000  \n",
      "\n",
      "[8 rows x 38 columns]\n"
     ]
    }
   ],
   "source": [
    "# TODO 1.5 Display basic statistics, including min, max, mean, std... [0,1 Points]\n",
    "pd_dataframe_describe = pandas_dataframe.describe()\n",
    "print(pd_dataframe_describe)"
   ]
  },
  {
   "cell_type": "code",
   "execution_count": 8,
   "metadata": {},
   "outputs": [
    {
     "data": {
      "text/plain": [
       "MSSubClass\n",
       "20     536\n",
       "60     299\n",
       "50     144\n",
       "120     87\n",
       "30      69\n",
       "160     63\n",
       "70      60\n",
       "80      58\n",
       "90      52\n",
       "190     30\n",
       "85      20\n",
       "75      16\n",
       "45      12\n",
       "180     10\n",
       "40       4\n",
       "Name: count, dtype: int64"
      ]
     },
     "execution_count": 8,
     "metadata": {},
     "output_type": "execute_result"
    }
   ],
   "source": [
    "# TODO 1.6 Display count of the values of the feature 'Target' [0,1 Points]\n",
    "pandas_dataframe['MSSubClass'].value_counts()"
   ]
  },
  {
   "cell_type": "markdown",
   "metadata": {},
   "source": [
    "## 2. Missing values  [1 Point]"
   ]
  },
  {
   "cell_type": "code",
   "execution_count": 11,
   "metadata": {},
   "outputs": [
    {
     "name": "stdout",
     "output_type": "stream",
     "text": [
      "<class 'pandas.core.frame.DataFrame'>\n",
      "RangeIndex: 1460 entries, 0 to 1459\n",
      "Data columns (total 81 columns):\n",
      " #   Column         Non-Null Count  Dtype  \n",
      "---  ------         --------------  -----  \n",
      " 0   Id             1460 non-null   int64  \n",
      " 1   MSSubClass     1460 non-null   int64  \n",
      " 2   MSZoning       1460 non-null   object \n",
      " 3   LotFrontage    1201 non-null   float64\n",
      " 4   LotArea        1460 non-null   int64  \n",
      " 5   Street         1460 non-null   object \n",
      " 6   Alley          91 non-null     object \n",
      " 7   LotShape       1460 non-null   object \n",
      " 8   LandContour    1460 non-null   object \n",
      " 9   Utilities      1460 non-null   object \n",
      " 10  LotConfig      1460 non-null   object \n",
      " 11  LandSlope      1460 non-null   object \n",
      " 12  Neighborhood   1460 non-null   object \n",
      " 13  Condition1     1460 non-null   object \n",
      " 14  Condition2     1460 non-null   object \n",
      " 15  BldgType       1460 non-null   object \n",
      " 16  HouseStyle     1460 non-null   object \n",
      " 17  OverallQual    1460 non-null   int64  \n",
      " 18  OverallCond    1460 non-null   int64  \n",
      " 19  YearBuilt      1460 non-null   int64  \n",
      " 20  YearRemodAdd   1460 non-null   int64  \n",
      " 21  RoofStyle      1460 non-null   object \n",
      " 22  RoofMatl       1460 non-null   object \n",
      " 23  Exterior1st    1460 non-null   object \n",
      " 24  Exterior2nd    1460 non-null   object \n",
      " 25  MasVnrType     1452 non-null   object \n",
      " 26  MasVnrArea     1452 non-null   float64\n",
      " 27  ExterQual      1460 non-null   object \n",
      " 28  ExterCond      1460 non-null   object \n",
      " 29  Foundation     1460 non-null   object \n",
      " 30  BsmtQual       1423 non-null   object \n",
      " 31  BsmtCond       1423 non-null   object \n",
      " 32  BsmtExposure   1422 non-null   object \n",
      " 33  BsmtFinType1   1423 non-null   object \n",
      " 34  BsmtFinSF1     1460 non-null   int64  \n",
      " 35  BsmtFinType2   1422 non-null   object \n",
      " 36  BsmtFinSF2     1460 non-null   int64  \n",
      " 37  BsmtUnfSF      1460 non-null   int64  \n",
      " 38  TotalBsmtSF    1460 non-null   int64  \n",
      " 39  Heating        1460 non-null   object \n",
      " 40  HeatingQC      1460 non-null   object \n",
      " 41  CentralAir     1460 non-null   object \n",
      " 42  Electrical     1459 non-null   object \n",
      " 43  1stFlrSF       1460 non-null   int64  \n",
      " 44  2ndFlrSF       1460 non-null   int64  \n",
      " 45  LowQualFinSF   1460 non-null   int64  \n",
      " 46  GrLivArea      1460 non-null   int64  \n",
      " 47  BsmtFullBath   1460 non-null   int64  \n",
      " 48  BsmtHalfBath   1460 non-null   int64  \n",
      " 49  FullBath       1460 non-null   int64  \n",
      " 50  HalfBath       1460 non-null   int64  \n",
      " 51  BedroomAbvGr   1460 non-null   int64  \n",
      " 52  KitchenAbvGr   1460 non-null   int64  \n",
      " 53  KitchenQual    1460 non-null   object \n",
      " 54  TotRmsAbvGrd   1460 non-null   int64  \n",
      " 55  Functional     1460 non-null   object \n",
      " 56  Fireplaces     1460 non-null   int64  \n",
      " 57  FireplaceQu    770 non-null    object \n",
      " 58  GarageType     1379 non-null   object \n",
      " 59  GarageYrBlt    1379 non-null   float64\n",
      " 60  GarageFinish   1379 non-null   object \n",
      " 61  GarageCars     1460 non-null   int64  \n",
      " 62  GarageArea     1460 non-null   int64  \n",
      " 63  GarageQual     1379 non-null   object \n",
      " 64  GarageCond     1379 non-null   object \n",
      " 65  PavedDrive     1460 non-null   object \n",
      " 66  WoodDeckSF     1460 non-null   int64  \n",
      " 67  OpenPorchSF    1460 non-null   int64  \n",
      " 68  EnclosedPorch  1460 non-null   int64  \n",
      " 69  3SsnPorch      1460 non-null   int64  \n",
      " 70  ScreenPorch    1460 non-null   int64  \n",
      " 71  PoolArea       1460 non-null   int64  \n",
      " 72  PoolQC         7 non-null      object \n",
      " 73  Fence          281 non-null    object \n",
      " 74  MiscFeature    54 non-null     object \n",
      " 75  MiscVal        1460 non-null   int64  \n",
      " 76  MoSold         1460 non-null   int64  \n",
      " 77  YrSold         1460 non-null   int64  \n",
      " 78  SaleType       1460 non-null   object \n",
      " 79  SaleCondition  1460 non-null   object \n",
      " 80  Target         1460 non-null   int64  \n",
      "dtypes: float64(3), int64(35), object(43)\n",
      "memory usage: 924.0+ KB\n"
     ]
    }
   ],
   "source": [
    "# TODO 2.1 Detect and display the total number on NaN values in the dataset. [0,5 Points]\n",
    "# pandas_dataframe.isna().sum().sum\n",
    "pandas_dataframe.info()"
   ]
  },
  {
   "cell_type": "code",
   "execution_count": 19,
   "metadata": {},
   "outputs": [
    {
     "data": {
      "text/plain": [
       "Id                 0\n",
       "MSSubClass         0\n",
       "MSZoning           0\n",
       "LotFrontage      259\n",
       "LotArea            0\n",
       "                ... \n",
       "MoSold             0\n",
       "YrSold             0\n",
       "SaleType           0\n",
       "SaleCondition      0\n",
       "Target             0\n",
       "Length: 81, dtype: int64"
      ]
     },
     "execution_count": 19,
     "metadata": {},
     "output_type": "execute_result"
    }
   ],
   "source": [
    "# TODO 2.2 Detect variables that have NaN values. [0,5 Points]\n",
    "pandas_dataframe.isna().sum()\n"
   ]
  },
  {
   "cell_type": "code",
   "execution_count": 20,
   "metadata": {},
   "outputs": [
    {
     "data": {
      "text/plain": [
       "1369"
      ]
     },
     "execution_count": 20,
     "metadata": {},
     "output_type": "execute_result"
    }
   ],
   "source": [
    "pandas_dataframe['Alley'].isna().sum()"
   ]
  },
  {
   "cell_type": "markdown",
   "metadata": {},
   "source": [
    "## 3. Visual exploratory data analysis  [1 Point]"
   ]
  },
  {
   "cell_type": "code",
   "execution_count": null,
   "metadata": {},
   "outputs": [],
   "source": [
    "# TODO 3.1 Display boxplot subplots for all applicable features [0,5 Points]\n"
   ]
  },
  {
   "cell_type": "code",
   "execution_count": null,
   "metadata": {},
   "outputs": [],
   "source": [
    "# TODO 3.2 Display histogram subplots for all applicable features [0,5 Points]\n"
   ]
  },
  {
   "cell_type": "markdown",
   "metadata": {},
   "source": [
    "## 4. Data standardisation  [3 Points]"
   ]
  },
  {
   "cell_type": "code",
   "execution_count": null,
   "metadata": {},
   "outputs": [],
   "source": [
    "# TODO 4.1 Data standardisation sensu stricto [1,5 Points]\n",
    "# Scale data using in a way that mean equals to zero and standard deviation equals to one\n",
    "# Display box plots of the scaled data frame to see results\n"
   ]
  },
  {
   "cell_type": "code",
   "execution_count": null,
   "metadata": {},
   "outputs": [],
   "source": [
    "# TODO 4.2 Range - transform features by scaling each feature to a given range (range of the dataset) [1,5 Points]\n",
    "# Display box plots of the scaled data frame to see results\n"
   ]
  },
  {
   "cell_type": "markdown",
   "metadata": {},
   "source": [
    "## 5. Data transformation [3 Points + 2 Bonus Points]"
   ]
  },
  {
   "cell_type": "code",
   "execution_count": null,
   "metadata": {},
   "outputs": [],
   "source": [
    "# TODO 5.1 Identify one skewed feature (or the one that is mostly skewed), calculate its skew factor, and display histogram of that feature only [1 Point]\n",
    "# Tip - base your selection on the previously displayed histograms, and explain in one sentence your selection\n",
    "# Tip - skew() method\n"
   ]
  },
  {
   "cell_type": "code",
   "execution_count": null,
   "metadata": {},
   "outputs": [],
   "source": [
    "# TODO 5.2 Perform Log transform of that feature, calculate new skew factor, and display the new histogram of that feature [1 Point]\n"
   ]
  },
  {
   "cell_type": "code",
   "execution_count": null,
   "metadata": {},
   "outputs": [],
   "source": [
    "# TODO 5.3 Perform SQRT transform, calculate new skew factor, and display the new histogram of that feature [1 Point]\n"
   ]
  },
  {
   "cell_type": "code",
   "execution_count": null,
   "metadata": {},
   "outputs": [],
   "source": [
    "# TODO 5.4 Perform Box-Cox Transform, calculate new skew factor, and display the new histogram of that feature [2 Bonus Points]\n",
    "# Explain in couple of sentences how this transformation works.\n"
   ]
  },
  {
   "cell_type": "code",
   "execution_count": null,
   "metadata": {},
   "outputs": [],
   "source": []
  }
 ],
 "metadata": {
  "kernelspec": {
   "display_name": "base",
   "language": "python",
   "name": "python3"
  },
  "language_info": {
   "codemirror_mode": {
    "name": "ipython",
    "version": 3
   },
   "file_extension": ".py",
   "mimetype": "text/x-python",
   "name": "python",
   "nbconvert_exporter": "python",
   "pygments_lexer": "ipython3",
   "version": "3.12.4"
  }
 },
 "nbformat": 4,
 "nbformat_minor": 4
}
