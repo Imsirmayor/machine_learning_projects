{
 "cells": [
  {
   "cell_type": "markdown",
   "metadata": {},
   "source": [
    "# NEURAL NETWORKS AND DEEP LEARNING, part 2\n",
    "\n",
    "Contents of this excercise:\n",
    "   \n",
    "1. [Dataset - recap](#1)    \n",
    "1. [2-Layer Neural Network](#2)\n",
    "   1. [Size of layers and initializing parameters - weights and bias](#3)\n",
    "   1. [Feed forward (forward propagation)](#4)\n",
    "   1. [Loss function and Cost function](#5)\n",
    "   1. [Backward propagation](#6)\n",
    "   1. [Update parameters](#7)\n",
    "   1. [Prediction with learnt parameters weight and bias](#8)\n",
    "   1. [Create Model](#9)\n",
    "1. [L-Layer Neural Network - DEEP LEARNING](#10)\n",
    "    1. [Implementing with Keras library](#11)\n",
    "    1. [TODO No. 1: Implement model using Keras library](#11)\n",
    "    1. [TODO No. 2: Play with hyperparamethers](#11)\n",
    "    1. [TODO No. 3: Multi class classification with NN](#12)\n"
   ]
  },
  {
   "cell_type": "code",
   "execution_count": 54,
   "metadata": {
    "_cell_guid": "6fe1e8d5-b36d-4e39-9a9b-34618b5e275e",
    "_uuid": "79f18357b846d2cd91e0f7b2389e1dba8097cbdb"
   },
   "outputs": [],
   "source": [
    "import numpy as np # linear algebra\n",
    "import pandas as pd # data processing\n",
    "import matplotlib.pyplot as plt\n"
   ]
  },
  {
   "cell_type": "markdown",
   "metadata": {
    "_cell_guid": "62bb7abd-122c-4f87-97ad-eb203e9dea1f",
    "_uuid": "3e3e94ca5c9349ac36416482d30af378966c7a8a"
   },
   "source": [
    "<a id=\"1\"></a> <br>\n",
    "## 1. Dataset - recap\n",
    "* We will use sign language digits data set again.\n",
    "* There are 2062 sign language digits images in this dataset, representing numbers from 0 to 9 in the sign language.\n",
    "* In our dataset, sign zero is between indexes 204 and 408, so number of samples is 205.\n",
    "* Also sign one is between indexes 822 and 1027, with number of samples 206. Therefore, we will use 205 samples from each class (label).\n",
    "* X is image array (zero and one signs) and Y is label array (0 and 1)."
   ]
  },
  {
   "cell_type": "code",
   "execution_count": 55,
   "metadata": {
    "_cell_guid": "4768ce70-3e7f-4ac9-8764-642e88006b77",
    "_uuid": "d6b38399b27c2d723750c0b4f8787a7d6d0025ea"
   },
   "outputs": [
    {
     "name": "stdout",
     "output_type": "stream",
     "text": [
      "(2062, 64, 64)\n"
     ]
    },
    {
     "data": {
      "image/png": "[encoded data removed]",
      "text/plain": [
       "<Figure size 640x480 with 2 Axes>"
      ]
     },
     "metadata": {},
     "output_type": "display_data"
    }
   ],
   "source": [
    "# load data set\n",
    "x_l = np.load('./input/Sign-language-digits-dataset/X.npy')\n",
    "Y_l = np.load('./input/Sign-language-digits-dataset/Y.npy')\n",
    "print(x_l.shape)\n",
    "plt.subplot(1, 2, 1)\n",
    "plt.imshow(x_l[300])\n",
    "plt.axis('off')\n",
    "plt.subplot(1, 2, 2)\n",
    "plt.imshow(x_l[900])\n",
    "plt.axis('off')\n",
    "plt.show()"
   ]
  },
  {
   "cell_type": "code",
   "execution_count": 56,
   "metadata": {
    "_cell_guid": "88a9b18b-12c7-46d6-8370-e2f02b55dd7a",
    "_uuid": "ad417f6189b0d9476388d92b6be09c887f7f1a40"
   },
   "outputs": [
    {
     "name": "stdout",
     "output_type": "stream",
     "text": [
      "X shape:  (410, 64, 64)\n",
      "Y shape:  (410, 1)\n"
     ]
    }
   ],
   "source": [
    "# Join a sequence of arrays along an row axis.\n",
    "X = np.concatenate((x_l[204:409], x_l[822:1027] ), axis=0) # from 0 to 204 is zero sign and from 205 to 410 is one sign \n",
    "z = np.zeros(205)\n",
    "o = np.ones(205)\n",
    "Y = np.concatenate((z, o), axis=0).reshape(X.shape[0],1)\n",
    "print(\"X shape: \" , X.shape)\n",
    "print(\"Y shape: \" , Y.shape)"
   ]
  },
  {
   "cell_type": "code",
   "execution_count": 57,
   "metadata": {
    "_cell_guid": "00db1f03-75d3-48dc-a6fb-824a58790d42",
    "_uuid": "82869efdb6890ede1899c1bc8c90fa8b1caceec3"
   },
   "outputs": [
    {
     "name": "stdout",
     "output_type": "stream",
     "text": [
      "348\n",
      "62\n",
      "(348, 64, 64)\n",
      "(348, 1)\n"
     ]
    }
   ],
   "source": [
    "# Then create x_train, y_train, x_test, y_test arrays\n",
    "from sklearn.model_selection import train_test_split\n",
    "X_train, X_test, Y_train, Y_test = train_test_split(X, Y, test_size=0.15, random_state=42)\n",
    "number_of_train = X_train.shape[0]\n",
    "number_of_test = X_test.shape[0]\n",
    "print(number_of_train)\n",
    "print(number_of_test)\n",
    "print(X_train.shape)\n",
    "print(Y_train.shape)"
   ]
  },
  {
   "cell_type": "code",
   "execution_count": 58,
   "metadata": {
    "_cell_guid": "f5937123-1e16-4036-844b-f498ed42e504",
    "_uuid": "f8b7203144bc85873d960f765e2bb3e711b57f30"
   },
   "outputs": [
    {
     "name": "stdout",
     "output_type": "stream",
     "text": [
      "X train flatten (348, 4096)\n",
      "X test flatten (62, 4096)\n"
     ]
    }
   ],
   "source": [
    "X_train_flatten = X_train.reshape(number_of_train,X_train.shape[1]*X_train.shape[2])\n",
    "X_test_flatten = X_test .reshape(number_of_test,X_test.shape[1]*X_test.shape[2])\n",
    "print(\"X train flatten\",X_train_flatten.shape)\n",
    "print(\"X test flatten\",X_test_flatten.shape)"
   ]
  },
  {
   "cell_type": "code",
   "execution_count": 59,
   "metadata": {
    "_cell_guid": "ad9bee66-78f1-44ec-a114-465356b9cc7d",
    "_uuid": "88eef1b839ee51234a53da3ccb1e36a2e5e9a0e6"
   },
   "outputs": [
    {
     "name": "stdout",
     "output_type": "stream",
     "text": [
      "x train:  (4096, 348)\n",
      "x test:  (4096, 62)\n",
      "y train:  (1, 348)\n",
      "y test:  (1, 62)\n"
     ]
    }
   ],
   "source": [
    "x_train = X_train_flatten.T\n",
    "x_test = X_test_flatten.T\n",
    "y_train = Y_train.T\n",
    "y_test = Y_test.T\n",
    "print(\"x train: \",x_train.shape)\n",
    "print(\"x test: \",x_test.shape)\n",
    "print(\"y train: \",y_train.shape)\n",
    "print(\"y test: \",y_test.shape)"
   ]
  },
  {
   "cell_type": "markdown",
   "metadata": {
    "_cell_guid": "a800aa00-7adf-4d10-83c1-3a5221219329",
    "_uuid": "dd0e970ce5194a34ca55b27b6580ef85714e1b92"
   },
   "source": [
    "<a id=\"2\"></a> <br>\n",
    "## 2. 2-Layer Neural Network\n",
    "\n",
    "* **What is neural network**: It is basically repeating logistic regression at least 2 times\n",
    "    * Logistic regression -> input and output layers\n",
    "    * Neural networks -> at least one hidden layer between input and output layers\n",
    "* **What is deep, in order to say \"deep\" how many layers do I need to have**: \n",
    "    * \"Deep\" is a relative term, referring of course to the \"depth\" of a network\n",
    "    * 30 years ago, two or three hidden layers were possible using the specialized hardware of the day\n",
    "    * A couple years ago 20 layers were considered pretty deep \n",
    "    * Nowadays -> hundreds or even thousands\n",
    "* **Why is it called hidden**: Because hidden layer does not interfere with inputs (training set) directly\n",
    "* A network with an input, one hidden and an output layer is considered as 2 layer neural network, because while computing layer number input layer is ignored\n",
    "* Lets see 2-layer neural network: \n",
    "<a href=\"http://ibb.co/eF315x\"><img src=\"http://preview.ibb.co/dajVyH/9.jpg\" alt=\"9\" border=\"0\"></a>\n",
    "* We will study this image step by step:\n",
    "    * As you can see there is one hidden layer between input and output layers. And this hidden layer has 3 nodes (perceptrons). Number of nodes is a hyperparameter (like learning rate). \n",
    "    * Input and output layers, similar to the logistic regression, use **Sigmoid** activation function.\n",
    "    * On the other hand **Tanh** activation function is better than sigmoid for hidden units bacause mean of its output is closer to zero so it centers the data better for the next layer. Also tanh activation function increase non-linearity that helps our model to learn better.\n",
    "    * Logistic regression vs. Neural networks.\n",
    "        * In logistic regression: input => output\n",
    "        * In 2-layer neural network: input => hidden layer => output.\n",
    "   "
   ]
  },
  {
   "cell_type": "code",
   "execution_count": 60,
   "metadata": {},
   "outputs": [],
   "source": [
    "# Definition of sigmoid\n",
    "def sigmoid(z):\n",
    "    y_head = 1/(1+np.exp(-z))\n",
    "    return y_head"
   ]
  },
  {
   "cell_type": "markdown",
   "metadata": {
    "_cell_guid": "bbfe8df0-bf38-4842-aec1-c04417a99420",
    "_uuid": "0a5e286cf360d579eb6e5d5f220dd1a17c458039"
   },
   "source": [
    "<a id=\"3\"></a> <br>\n",
    "### 2.1 Size of layers and initializing parameters -  weights and bias\n",
    "* x_train has 348 samples - $x^{(348)}$:\n",
    "$$z^{[1] (348)} =  W^{[1]} x^{(348)} + b^{[1] (348)}$$ \n",
    "$$a^{[1] (348)} = \\tanh(z^{[1] (348)})$$\n",
    "$$z^{[2] (348)} = W^{[2]} a^{[1] (348)} + b^{[2] (348)}$$\n",
    "$$\\hat{y}^{(348)} = a^{[2] (348)} = \\sigma(z^{ [2] (348)})$$\n",
    "\n",
    "* In the previous part of this exercise (logistic regression), we initialized weights as 0.01 and bias as 0 values. \n",
    "* Now, we will initialize weights randomly, because we would like to avoid that each perceptron in the first hidden layer performs exactly the same computation. Also, initial weights values should be small, because this can help in speeding up the optimization process. \n",
    "* Bias can be zero initially."
   ]
  },
  {
   "cell_type": "code",
   "execution_count": 61,
   "metadata": {
    "_cell_guid": "089fd577-95a0-4218-9b53-72bf1c0ab206",
    "_uuid": "922670a74f6999885759399ebea8b10692796a29"
   },
   "outputs": [],
   "source": [
    "# intialize parameters and layer sizes\n",
    "def initialize_parameters_and_layer_sizes_NN(x_train, y_train):\n",
    "    parameters = {\"weight1\": np.random.randn(3,x_train.shape[0]) * 0.1,\n",
    "                  \"bias1\": np.zeros((3,1)),\n",
    "                  \"weight2\": np.random.randn(y_train.shape[0],3) * 0.1,\n",
    "                  \"bias2\": np.zeros((y_train.shape[0],1))}\n",
    "    return parameters"
   ]
  },
  {
   "cell_type": "markdown",
   "metadata": {
    "_cell_guid": "65832cdf-7ee8-447b-a068-48ac2e46b49f",
    "_uuid": "66147bbafbe25dac498f3963ea8419126f624ce9"
   },
   "source": [
    "<a id=\"4\"></a> <br>\n",
    "### 2.2 Feed Forward (forward propagation)\n",
    "* Forward propagation is almost the same as for the logistic regression in the prevous part of this exercise.\n",
    "* The only difference is the usage of tanh function and processing of two layers.\n",
    "* Conveniently, numpy has tanh function."
   ]
  },
  {
   "cell_type": "code",
   "execution_count": 62,
   "metadata": {
    "_cell_guid": "d64d6b90-7f14-453f-a401-4119504496e3",
    "_uuid": "41e1e2f1c7afff027ba0a9f9b2fdcbe312e9a194"
   },
   "outputs": [],
   "source": [
    "\n",
    "def forward_propagation_NN(x_train, parameters):\n",
    "\n",
    "    Z1 = np.dot(parameters[\"weight1\"],x_train) +parameters[\"bias1\"]\n",
    "    A1 = np.tanh(Z1)\n",
    "    Z2 = np.dot(parameters[\"weight2\"],A1) + parameters[\"bias2\"]\n",
    "    A2 = sigmoid(Z2)\n",
    "\n",
    "    cache = {\"Z1\": Z1,\n",
    "             \"A1\": A1,\n",
    "             \"Z2\": Z2,\n",
    "             \"A2\": A2}\n",
    "    \n",
    "    return A2, cache\n"
   ]
  },
  {
   "cell_type": "markdown",
   "metadata": {
    "_cell_guid": "30a0abc9-7ee0-4093-afd5-ae9d5b1fcd5e",
    "_uuid": "ee7a42ee207e222eed5c24b1bfbf2d6ce0cdec37"
   },
   "source": [
    "<a id=\"5\"></a> <br>\n",
    "### 2.3 Loss function and Cost function\n",
    "* Loss and cost functions are same as before.\n",
    "* Cross entropy function\n",
    "<a href=\"https://imgbb.com/\"><img src=\"https://image.ibb.co/nyR9LU/as.jpg\" alt=\"as\" border=\"0\"></a><br />"
   ]
  },
  {
   "cell_type": "code",
   "execution_count": 63,
   "metadata": {
    "_cell_guid": "24143d72-bc62-4f2d-b0cf-4f67a4016299",
    "_uuid": "b55887b28cffc8083a76af45d25957d4f3e9f6fa"
   },
   "outputs": [],
   "source": [
    "# Compute cost\n",
    "# def compute_cost_NN(A2, Y, parameters):\n",
    "#     logprobs = np.multiply(np.log(A2),Y)\n",
    "#     cost = -np.sum(logprobs)/Y.shape[1]\n",
    "#     return cost\n",
    "\n",
    "\n",
    "\n",
    "def compute_cost_NN(A2, Y, parameters):\n",
    "    m = Y.shape[1]\n",
    "    cost = -(1/m) * np.sum(Y * np.log(A2) + (1 - Y) * np.log(1 - A2))\n",
    "    cost = np.squeeze(cost)\n",
    "    return cost"
   ]
  },
  {
   "cell_type": "markdown",
   "metadata": {
    "_cell_guid": "39839772-976a-4e53-a2e0-07aa76c9bd98",
    "_uuid": "43767f9271e2b2b6e0c3560e414f3c0c596ffe2f"
   },
   "source": [
    "<a id=\"6\"></a> <br>\n",
    "### 2.4 Back propagation\n",
    "* The logic is same as in the previuos part."
   ]
  },
  {
   "cell_type": "code",
   "execution_count": 64,
   "metadata": {
    "_cell_guid": "2fcfd3c4-f935-4272-a284-c2dbc2c35afb",
    "_uuid": "6bf7bce2e4413ecdc16ea778008eee4072738aab"
   },
   "outputs": [],
   "source": [
    "# Backward Propagation\n",
    "def backward_propagation_NN(parameters, cache, X, Y):\n",
    "    dZ2 = cache[\"A2\"]-Y\n",
    "    dW2 = np.dot(dZ2,cache[\"A1\"].T)/X.shape[1]\n",
    "    db2 = np.sum(dZ2,axis =1,keepdims=True)/X.shape[1]\n",
    "    dZ1 = np.dot(parameters[\"weight2\"].T,dZ2)*(1 - np.power(cache[\"A1\"], 2))\n",
    "    dW1 = np.dot(dZ1,X.T)/X.shape[1]\n",
    "    db1 = np.sum(dZ1,axis =1,keepdims=True)/X.shape[1]\n",
    "    grads = {\"dweight1\": dW1,\n",
    "             \"dbias1\": db1,\n",
    "             \"dweight2\": dW2,\n",
    "             \"dbias2\": db2}\n",
    "    return grads\n"
   ]
  },
  {
   "cell_type": "markdown",
   "metadata": {
    "_cell_guid": "af195fda-5649-4e6d-830e-72123f2726a8",
    "_uuid": "b1996782dc44fda7993407c9b5efee5d4fef46e4"
   },
   "source": [
    "<a id=\"7\"></a> <br>\n",
    "### 2.5 Update Parameters \n",
    "* Updating parameters is also the same as for the logistic regression."
   ]
  },
  {
   "cell_type": "code",
   "execution_count": 65,
   "metadata": {
    "_cell_guid": "d9ae95d4-1d11-4293-822d-e1d5f0c16d1e",
    "_uuid": "facf2b475cb82e14dcc6be56b57fe2c3ad0b1a8f"
   },
   "outputs": [],
   "source": [
    "# update parameters\n",
    "def update_parameters_NN(parameters, grads, learning_rate = 0.01):\n",
    "    parameters = {\"weight1\": parameters[\"weight1\"]-learning_rate*grads[\"dweight1\"],\n",
    "                  \"bias1\": parameters[\"bias1\"]-learning_rate*grads[\"dbias1\"],\n",
    "                  \"weight2\": parameters[\"weight2\"]-learning_rate*grads[\"dweight2\"],\n",
    "                  \"bias2\": parameters[\"bias2\"]-learning_rate*grads[\"dbias2\"]}\n",
    "    \n",
    "    return parameters"
   ]
  },
  {
   "cell_type": "markdown",
   "metadata": {
    "_cell_guid": "ac416480-ec9c-45b4-ac9d-1caeded9ba90",
    "_uuid": "9c471502563017fabb991494359091215e4ad583"
   },
   "source": [
    "<a id=\"8\"></a> <br>\n",
    "### 2.6 Prediction with learnt parameters - weight and bias\n",
    "* Prediction method, similar to logistic regression."
   ]
  },
  {
   "cell_type": "code",
   "execution_count": 66,
   "metadata": {
    "_cell_guid": "96004eb5-d6ca-41ab-a577-70fb0628a2f4",
    "_uuid": "53c00c4430c6fcc3298dde8de804cab71884caa5"
   },
   "outputs": [],
   "source": [
    "# prediction\n",
    "def predict_NN(parameters,x_test):\n",
    "    # x_test is a input for forward propagation\n",
    "    A2, cache = forward_propagation_NN(x_test,parameters)\n",
    "    Y_prediction = np.zeros((1,x_test.shape[1]))\n",
    "    # if z is bigger than 0.5, our prediction is sign one (y_head=1),\n",
    "    # if z is smaller than 0.5, our prediction is sign zero (y_head=0),\n",
    "    for i in range(A2.shape[1]):\n",
    "        if A2[0,i]<= 0.5:\n",
    "            Y_prediction[0,i] = 0\n",
    "        else:\n",
    "            Y_prediction[0,i] = 1\n",
    "\n",
    "    return Y_prediction"
   ]
  },
  {
   "cell_type": "markdown",
   "metadata": {
    "_cell_guid": "d0df9e13-300b-4d5e-b8ec-f702ed0e06af",
    "_uuid": "94202fbc047d59fa5c8b81ba02962f1f3cc56d8f"
   },
   "source": [
    "<a id=\"9\"></a> <br>\n",
    "### 2.7 Create model\n",
    "* Lets put all together"
   ]
  },
  {
   "cell_type": "code",
   "execution_count": 67,
   "metadata": {
    "_cell_guid": "b66f3c28-0f71-4176-8a6b-35b98b0db936",
    "_uuid": "9babf239f800bedc9864c6a75677985d57f1cc78"
   },
   "outputs": [
    {
     "name": "stdout",
     "output_type": "stream",
     "text": [
      "Cost after iteration 0: 0.701054\n",
      "Cost after iteration 100: 0.694106\n",
      "Cost after iteration 200: 0.693248\n",
      "Cost after iteration 300: 0.693124\n",
      "Cost after iteration 400: 0.693101\n",
      "Cost after iteration 500: 0.693092\n",
      "Cost after iteration 600: 0.693087\n",
      "Cost after iteration 700: 0.693083\n",
      "Cost after iteration 800: 0.693079\n",
      "Cost after iteration 900: 0.693075\n",
      "Cost after iteration 1000: 0.693070\n",
      "Cost after iteration 1100: 0.693065\n",
      "Cost after iteration 1200: 0.693058\n",
      "Cost after iteration 1300: 0.693047\n",
      "Cost after iteration 1400: 0.693028\n",
      "Cost after iteration 1500: 0.692979\n",
      "Cost after iteration 1600: 0.692683\n",
      "Cost after iteration 1700: 0.683467\n",
      "Cost after iteration 1800: 0.660836\n",
      "Cost after iteration 1900: 0.611317\n",
      "Cost after iteration 2000: 0.536003\n",
      "Cost after iteration 2100: 0.455566\n",
      "Cost after iteration 2200: 0.384897\n",
      "Cost after iteration 2300: 0.358766\n",
      "Cost after iteration 2400: 0.407056\n"
     ]
    },
    {
     "data": {
      "image/png": "[encoded data removed]",
      "text/plain": [
       "<Figure size 640x480 with 1 Axes>"
      ]
     },
     "metadata": {},
     "output_type": "display_data"
    },
    {
     "name": "stdout",
     "output_type": "stream",
     "text": [
      "train accuracy: 97.1264367816092 %\n",
      "test accuracy: 95.16129032258064 %\n"
     ]
    }
   ],
   "source": [
    "# 2 - Layer neural network\n",
    "def two_layer_neural_network(x_train, y_train,x_test,y_test, num_iterations):\n",
    "    cost_list = []\n",
    "    index_list = []\n",
    "    #initialize parameters and layer sizes\n",
    "    parameters = initialize_parameters_and_layer_sizes_NN(x_train, y_train)\n",
    "\n",
    "    for i in range(0, num_iterations):\n",
    "         # forward propagation\n",
    "        A2, cache = forward_propagation_NN(x_train,parameters)\n",
    "        # compute cost\n",
    "        cost = compute_cost_NN(A2, y_train, parameters)\n",
    "        # backward propagation\n",
    "        grads = backward_propagation_NN(parameters, cache, x_train, y_train)\n",
    "        # update parameters\n",
    "        parameters = update_parameters_NN(parameters, grads)\n",
    "        \n",
    "        if i % 100 == 0:\n",
    "            cost_list.append(cost)\n",
    "            index_list.append(i)\n",
    "            print (\"Cost after iteration %i: %f\" %(i, cost))\n",
    "    plt.plot(index_list,cost_list)\n",
    "    plt.xticks(index_list,rotation='vertical')\n",
    "    plt.xlabel(\"Number of Iterarion\")\n",
    "    plt.ylabel(\"Cost\")\n",
    "    plt.show()\n",
    "    \n",
    "    # predict\n",
    "    y_prediction_test = predict_NN(parameters,x_test)\n",
    "    y_prediction_train = predict_NN(parameters,x_train)\n",
    "\n",
    "    # Print train/test Errors\n",
    "    print(\"train accuracy: {} %\".format(100 - np.mean(np.abs(y_prediction_train - y_train)) * 100))\n",
    "    print(\"test accuracy: {} %\".format(100 - np.mean(np.abs(y_prediction_test - y_test)) * 100))\n",
    "    return parameters\n",
    "\n",
    "parameters = two_layer_neural_network(x_train, y_train,x_test,y_test, num_iterations=2500)"
   ]
  },
  {
   "cell_type": "markdown",
   "metadata": {
    "_cell_guid": "c054ed2a-9dd9-498c-9be6-6e9b16ff5913",
    "_uuid": "aa2f896b72236e09687afc3c613a4fc801b16552"
   },
   "source": [
    "<a id=\"10\"></a> <br>\n",
    "## 3. L Layer Neural Network - DEEP LEARNING\n",
    "* **What happens if number of hidden layer increase:** \n",
    "    * First layerls can detect simple features (straight lines).\n",
    "    * Later (following) layers can detect more and more complex features (shapes). \n",
    "    * For example, lets look at our sign one:\n",
    "<a href=\"http://ibb.co/dNgDJH\"><img src=\"http://preview.ibb.co/mpD4Qx/10.jpg\" alt=\"10\" border=\"0\"></a>\n",
    "\n",
    "* Lets create our model\n",
    "    * There are some hyperparameters we need to choose like learning rate, number of iterations, number of hidden layer, number of hidden units, type of activation functions. \n",
    "    * These hyperparameters can be chosen intiutively.\n",
    "    * Or you can take a look in the literature/google for recommendations. \n",
    "    * In any case, you need to test diferent hyperparameters to find the best one.\n",
    "    * In the example in this exercise our model will have 2 hidden layers, with 8 and 4 perceptrones, respectively.  \n",
    "    * As an activation function we will use relu (first hidden layer), relu (second hidden layer) and sigmoid (output layer).\n",
    "    * Number of iterations will be 100.\n",
    "* This task is very similar to the previous part, however as we already learned the logic behind, we can ease our job and use keras library for deeper neural networks.\n",
    "\n",
    "    \n",
    "    "
   ]
  },
  {
   "cell_type": "code",
   "execution_count": 68,
   "metadata": {
    "_cell_guid": "631a05c4-e362-4fa0-9048-21c599f55344",
    "_uuid": "0a978924a68d423de4babe73c15412ad938c1858"
   },
   "outputs": [],
   "source": [
    "# reshaping\n",
    "x_train, x_test, y_train, y_test = x_train.T, x_test.T, y_train.T, y_test.T"
   ]
  },
  {
   "cell_type": "markdown",
   "metadata": {
    "_cell_guid": "e17b5a34-00dc-49a8-b7ac-a2bd3a753f78",
    "_uuid": "5a78a5570bc50180a02190dee46180f19eb165e1"
   },
   "source": [
    "<a id=\"11\"></a> <br>\n",
    "### 3.1 Implementing with keras library\n",
    "Lets look at some parameters of the Keras library:\n",
    "* units: number of perceptrons per layer\n",
    "* kernel_initializer: to initialize weights\n",
    "* activation: activation function (relu, sigmoid, tanh)\n",
    "* input_dim: input dimension (number of pixels in our images: 4096)\n",
    "* optimizer: we will use Adam optimizer (google a little bit about this)\n",
    "    * Adam is one of the most effective optimization algorithms for training neural networks.\n",
    "    * Some advantages of Adam: relatively low memory requirements and usually works well even with only a little tuning of hyperparameters\n",
    "* loss: cost function is the same as in the previous example (the name of our cost function is cross-entropy).\n",
    "$$J = - \\frac{1}{m} \\sum\\limits_{i = 0}^{m} \\large\\left(\\small y^{(i)}\\log\\left(a^{[2] (i)}\\right) + (1-y^{(i)})\\log\\left(1- a^{[2] (i)}\\right)  \\large  \\right) \\small$$\n",
    "* metrics: accuracy.\n",
    "* cross_val_score: we will use cross validation.\n",
    "* epochs: number of training iterations."
   ]
  },
  {
   "cell_type": "markdown",
   "metadata": {},
   "source": [
    "<a id=\"12\"></a> <br>\n",
    "### TODO No. 1: Implement model using Keras library\n",
    "* Two hidden layers (8 and 4 perceptrons, 'relu' activation), output layer ('sigmoid' activation) \n",
    "* Use cross validation\n",
    "* Present accuracy"
   ]
  },
  {
   "cell_type": "code",
   "execution_count": 69,
   "metadata": {},
   "outputs": [
    {
     "name": "stderr",
     "output_type": "stream",
     "text": [
      "C:\\Users\\mayow\\AppData\\Roaming\\Python\\Python312\\site-packages\\keras\\src\\layers\\core\\dense.py:87: UserWarning: Do not pass an `input_shape`/`input_dim` argument to a layer. When using Sequential models, prefer using an `Input(shape)` object as the first layer in the model instead.\n",
      "  super().__init__(activity_regularizer=activity_regularizer, **kwargs)\n"
     ]
    },
    {
     "name": "stdout",
     "output_type": "stream",
     "text": [
      "\u001b[1m3/3\u001b[0m \u001b[32m━━━━━━━━━━━━━━━━━━━━\u001b[0m\u001b[37m\u001b[0m \u001b[1m0s\u001b[0m 39ms/step\n",
      "Fold accuracy: 0.45\n"
     ]
    },
    {
     "name": "stderr",
     "output_type": "stream",
     "text": [
      "C:\\Users\\mayow\\AppData\\Roaming\\Python\\Python312\\site-packages\\keras\\src\\layers\\core\\dense.py:87: UserWarning: Do not pass an `input_shape`/`input_dim` argument to a layer. When using Sequential models, prefer using an `Input(shape)` object as the first layer in the model instead.\n",
      "  super().__init__(activity_regularizer=activity_regularizer, **kwargs)\n"
     ]
    },
    {
     "name": "stdout",
     "output_type": "stream",
     "text": [
      "\u001b[1m3/3\u001b[0m \u001b[32m━━━━━━━━━━━━━━━━━━━━\u001b[0m\u001b[37m\u001b[0m \u001b[1m0s\u001b[0m 40ms/step\n",
      "Fold accuracy: 0.45\n"
     ]
    },
    {
     "name": "stderr",
     "output_type": "stream",
     "text": [
      "C:\\Users\\mayow\\AppData\\Roaming\\Python\\Python312\\site-packages\\keras\\src\\layers\\core\\dense.py:87: UserWarning: Do not pass an `input_shape`/`input_dim` argument to a layer. When using Sequential models, prefer using an `Input(shape)` object as the first layer in the model instead.\n",
      "  super().__init__(activity_regularizer=activity_regularizer, **kwargs)\n"
     ]
    },
    {
     "name": "stdout",
     "output_type": "stream",
     "text": [
      "\u001b[1m3/3\u001b[0m \u001b[32m━━━━━━━━━━━━━━━━━━━━\u001b[0m\u001b[37m\u001b[0m \u001b[1m0s\u001b[0m 41ms/step\n",
      "Fold accuracy: 0.46\n"
     ]
    },
    {
     "name": "stderr",
     "output_type": "stream",
     "text": [
      "C:\\Users\\mayow\\AppData\\Roaming\\Python\\Python312\\site-packages\\keras\\src\\layers\\core\\dense.py:87: UserWarning: Do not pass an `input_shape`/`input_dim` argument to a layer. When using Sequential models, prefer using an `Input(shape)` object as the first layer in the model instead.\n",
      "  super().__init__(activity_regularizer=activity_regularizer, **kwargs)\n"
     ]
    },
    {
     "name": "stdout",
     "output_type": "stream",
     "text": [
      "\u001b[1m3/3\u001b[0m \u001b[32m━━━━━━━━━━━━━━━━━━━━\u001b[0m\u001b[37m\u001b[0m \u001b[1m0s\u001b[0m 46ms/step\n",
      "Fold accuracy: 0.48\n"
     ]
    },
    {
     "name": "stderr",
     "output_type": "stream",
     "text": [
      "C:\\Users\\mayow\\AppData\\Roaming\\Python\\Python312\\site-packages\\keras\\src\\layers\\core\\dense.py:87: UserWarning: Do not pass an `input_shape`/`input_dim` argument to a layer. When using Sequential models, prefer using an `Input(shape)` object as the first layer in the model instead.\n",
      "  super().__init__(activity_regularizer=activity_regularizer, **kwargs)\n"
     ]
    },
    {
     "name": "stdout",
     "output_type": "stream",
     "text": [
      "\u001b[1m3/3\u001b[0m \u001b[32m━━━━━━━━━━━━━━━━━━━━\u001b[0m\u001b[37m\u001b[0m \u001b[1m0s\u001b[0m 46ms/step\n",
      "Fold accuracy: 0.46\n",
      "Average accuracy across folds: 0.46\n",
      "Average accuracy across folds: 0.46\n"
     ]
    }
   ],
   "source": [
    "\n",
    "# Define the model\n",
    "def create_model(input_dim):\n",
    "    model = Sequential([\n",
    "        Dense(8, input_dim=input_dim, activation='relu'),  # First hidden layer\n",
    "        Dense(4, activation='relu'),  # Second hidden layer\n",
    "        Dense(1, activation='sigmoid')  # Output layer\n",
    "    ])\n",
    "    model.compile(optimizer=Adam(learning_rate=0.01), loss='binary_crossentropy', metrics=['accuracy'])\n",
    "    return model\n",
    "\n",
    "# Flatten the input data\n",
    "X_flatten = X.reshape(X.shape[0], -1)\n",
    "\n",
    "# Cross-validation setup\n",
    "kf = KFold(n_splits=5, shuffle=True, random_state=42)  # 5-fold cross-validation\n",
    "accuracies = []\n",
    "\n",
    "for train_index, test_index in kf.split(X_flatten):\n",
    "    X_train, X_test = X_flatten[train_index], X_flatten[test_index]\n",
    "    y_train, y_test = Y[train_index], Y[test_index]\n",
    "    \n",
    "    # Create and train the model\n",
    "    model = create_model(X_train.shape[1])\n",
    "    model.fit(X_train, y_train, epochs=20, batch_size=16, verbose=0)  # Train for 20 epochs\n",
    "    \n",
    "    # Evaluate the model\n",
    "    y_pred = (model.predict(X_test) > 0.5).astype(int)  # Predict and threshold at 0.5\n",
    "    accuracy = accuracy_score(y_test, y_pred)\n",
    "    accuracies.append(accuracy)\n",
    "    print(f\"Fold accuracy: {accuracy:.2f}\")\n",
    "\n",
    "# Report average accuracy\n",
    "average_accuracy = np.mean(accuracies)\n",
    "print(f\"Average accuracy across folds: {average_accuracy:.2f}\")\n",
    "average_accuracy = np.mean(accuracies)\n",
    "print(f\"Average accuracy across folds: {average_accuracy:.2f}\")\n"
   ]
  },
  {
   "cell_type": "markdown",
   "metadata": {},
   "source": [
    "<a id=\"12\"></a> <br>\n",
    "### TODO No. 2: Play with hyperparamethers\n",
    "* Try with different number of layers\n",
    "* ... different number of perceptrons per layer\n",
    "* ... different activation functions\n",
    "* What is the best combination of parameters in your tests?\n"
   ]
  },
  {
   "cell_type": "code",
   "execution_count": 73,
   "metadata": {},
   "outputs": [
    {
     "name": "stdout",
     "output_type": "stream",
     "text": [
      "\u001b[1m3/3\u001b[0m \u001b[32m━━━━━━━━━━━━━━━━━━━━\u001b[0m\u001b[37m\u001b[0m \u001b[1m0s\u001b[0m 37ms/step\n",
      "Fold accuracy: 0.45\n"
     ]
    },
    {
     "name": "stderr",
     "output_type": "stream",
     "text": [
      "C:\\Users\\mayow\\AppData\\Roaming\\Python\\Python312\\site-packages\\keras\\src\\layers\\core\\dense.py:87: UserWarning: Do not pass an `input_shape`/`input_dim` argument to a layer. When using Sequential models, prefer using an `Input(shape)` object as the first layer in the model instead.\n",
      "  super().__init__(activity_regularizer=activity_regularizer, **kwargs)\n"
     ]
    },
    {
     "name": "stdout",
     "output_type": "stream",
     "text": [
      "\u001b[1m3/3\u001b[0m \u001b[32m━━━━━━━━━━━━━━━━━━━━\u001b[0m\u001b[37m\u001b[0m \u001b[1m0s\u001b[0m 41ms/step\n",
      "Fold accuracy: 0.45\n"
     ]
    },
    {
     "name": "stderr",
     "output_type": "stream",
     "text": [
      "C:\\Users\\mayow\\AppData\\Roaming\\Python\\Python312\\site-packages\\keras\\src\\layers\\core\\dense.py:87: UserWarning: Do not pass an `input_shape`/`input_dim` argument to a layer. When using Sequential models, prefer using an `Input(shape)` object as the first layer in the model instead.\n",
      "  super().__init__(activity_regularizer=activity_regularizer, **kwargs)\n"
     ]
    },
    {
     "name": "stdout",
     "output_type": "stream",
     "text": [
      "\u001b[1m3/3\u001b[0m \u001b[32m━━━━━━━━━━━━━━━━━━━━\u001b[0m\u001b[37m\u001b[0m \u001b[1m0s\u001b[0m 42ms/step\n",
      "Fold accuracy: 0.46\n"
     ]
    },
    {
     "name": "stderr",
     "output_type": "stream",
     "text": [
      "C:\\Users\\mayow\\AppData\\Roaming\\Python\\Python312\\site-packages\\keras\\src\\layers\\core\\dense.py:87: UserWarning: Do not pass an `input_shape`/`input_dim` argument to a layer. When using Sequential models, prefer using an `Input(shape)` object as the first layer in the model instead.\n",
      "  super().__init__(activity_regularizer=activity_regularizer, **kwargs)\n"
     ]
    },
    {
     "name": "stdout",
     "output_type": "stream",
     "text": [
      "\u001b[1m3/3\u001b[0m \u001b[32m━━━━━━━━━━━━━━━━━━━━\u001b[0m\u001b[37m\u001b[0m \u001b[1m0s\u001b[0m 46ms/step\n",
      "Fold accuracy: 0.48\n"
     ]
    },
    {
     "name": "stderr",
     "output_type": "stream",
     "text": [
      "C:\\Users\\mayow\\AppData\\Roaming\\Python\\Python312\\site-packages\\keras\\src\\layers\\core\\dense.py:87: UserWarning: Do not pass an `input_shape`/`input_dim` argument to a layer. When using Sequential models, prefer using an `Input(shape)` object as the first layer in the model instead.\n",
      "  super().__init__(activity_regularizer=activity_regularizer, **kwargs)\n"
     ]
    },
    {
     "name": "stdout",
     "output_type": "stream",
     "text": [
      "\u001b[1m3/3\u001b[0m \u001b[32m━━━━━━━━━━━━━━━━━━━━\u001b[0m\u001b[37m\u001b[0m \u001b[1m0s\u001b[0m 45ms/step\n",
      "Fold accuracy: 0.46\n",
      "Average accuracy across folds: 0.46\n"
     ]
    }
   ],
   "source": [
    "# Your input is extected here...\n",
    "\n",
    "from tensorflow.keras.models import Sequential\n",
    "from tensorflow.keras.layers import Dense\n",
    "from tensorflow.keras.optimizers import Adam\n",
    "from sklearn.model_selection import KFold\n",
    "from sklearn.metrics import accuracy_score\n",
    "\n",
    "# Define the model\n",
    "def create_model(input_dim):\n",
    "    model = Sequential([\n",
    "        Dense(8, input_dim=input_dim, activation='relu'),  # First hidden layer\n",
    "        Dense(4, activation='relu'),  # Second hidden layer\n",
    "        Dense(1, activation='sigmoid')  # Output layer\n",
    "    ])\n",
    "    model.compile(optimizer=Adam(learning_rate=0.01), loss='binary_crossentropy', metrics=['accuracy'])\n",
    "    return model\n",
    "\n",
    "# Flatten the input data\n",
    "X_flatten = X.reshape(X.shape[0], -1)\n",
    "\n",
    "# Cross-validation setup\n",
    "kf = KFold(n_splits=5, shuffle=True, random_state=42)  # 5-fold cross-validation\n",
    "accuracies = []\n",
    "\n",
    "for train_index, test_index in kf.split(X_flatten):\n",
    "    X_train, X_test = X_flatten[train_index], X_flatten[test_index]\n",
    "    y_train, y_test = Y[train_index], Y[test_index]\n",
    "    \n",
    "    # Create and train the model\n",
    "    model = create_model(X_train.shape[1])\n",
    "    model.fit(X_train, y_train, epochs=20, batch_size=16, verbose=0)  # Train for 20 epochs\n",
    "    \n",
    "    # Evaluate the model\n",
    "    y_pred = (model.predict(X_test) > 0.5).astype(int)  # Predict and threshold at 0.5\n",
    "    accuracy = accuracy_score(y_test, y_pred)\n",
    "    accuracies.append(accuracy)\n",
    "    print(f\"Fold accuracy: {accuracy:.2f}\")\n",
    "\n",
    "# Report average accuracy\n",
    "average_accuracy = np.mean(accuracies)\n",
    "print(f\"Average accuracy across folds: {average_accuracy:.2f}\")\n"
   ]
  },
  {
   "cell_type": "markdown",
   "metadata": {},
   "source": [
    "<a id=\"13\"></a> <br>\n",
    "### TODO No. 3: Multi class classification with NN\n",
    "* Try to classify more signs with one network (e.g. signes 0, 1, 2 and 3)\n",
    "* What hyperparamether combination works the best for your experiment?\n"
   ]
  },
  {
   "cell_type": "code",
   "execution_count": null,
   "metadata": {},
   "outputs": [],
   "source": [
    "\n",
    "# One-hot encode labels\n",
    "encoder = OneHotEncoder(sparse=False)\n",
    "y_one_hot = encoder.fit_transform(y)\n",
    "\n",
    "# Function to create a model for multi-class classification\n",
    "def create_multiclass_model(layers, perceptrons, activation, learning_rate=0.01):\n",
    "    model = Sequential()\n",
    "    model.add(Dense(perceptrons[0], input_dim=X.shape[1], activation=activation))\n",
    "    for layer_size in perceptrons[1:]:\n",
    "        model.add(Dense(layer_size, activation=activation))\n",
    "    model.add(Dense(4, activation='softmax'))  # Output layer for 4 classes\n",
    "    model.compile(optimizer=Adam(learning_rate=learning_rate), \n",
    "                  loss='categorical_crossentropy', \n",
    "                  metrics=['accuracy'])\n",
    "    return model\n",
    "\n",
    "# Function to perform cross-validation with hyperparameters\n",
    "def evaluate_multiclass_model(layers, perceptrons, activation, learning_rate=0.01, epochs=20, batch_size=16):\n",
    "    kf = KFold(n_splits=5, shuffle=True, random_state=42)\n",
    "    accuracies = []\n",
    "    for train_index, test_index in kf.split(X):\n",
    "        X_train, X_test = X[train_index], X[test_index]\n",
    "        y_train, y_test = y_one_hot[train_index], y_one_hot[test_index]\n",
    "        \n",
    "        # Create and train model\n",
    "        model = create_multiclass_model(layers, perceptrons, activation, learning_rate)\n",
    "        model.fit(X_train, y_train, epochs=epochs, batch_size=batch_size, verbose=0)\n",
    "        \n",
    "        # Evaluate model\n",
    "        loss, accuracy = model.evaluate(X_test, y_test, verbose=0)\n",
    "        accuracies.append(accuracy)\n",
    "    \n",
    "    return np.mean(accuracies)\n",
    "\n",
    "# Experiment with different hyperparameters\n",
    "results = []\n",
    "configurations = [\n",
    "    {\"layers\": 1, \"perceptrons\": [8], \"activation\": \"relu\"},\n",
    "    {\"layers\": 2, \"perceptrons\": [8, 4], \"activation\": \"relu\"},\n",
    "    {\"layers\": 2, \"perceptrons\": [16, 8], \"activation\": \"tanh\"},\n",
    "    {\"layers\": 3, \"perceptrons\": [32, 16, 8], \"activation\": \"relu\"},\n",
    "    {\"layers\": 3, \"perceptrons\": [16, 8, 4], \"activation\": \"sigmoid\"},\n",
    "    {\"layers\": 2, \"perceptrons\": [16, 16], \"activation\": \"elu\"}\n",
    "]\n",
    "\n",
    "for config in configurations:\n",
    "    accuracy = evaluate_multiclass_model(\n",
    "        layers=config[\"layers\"], \n",
    "        perceptrons=config[\"perceptrons\"], \n",
    "        activation=config[\"activation\"], \n",
    "        learning_rate=0.01, \n",
    "        epochs=20, \n",
    "        batch_size=16\n",
    "    )\n",
    "    results.append((config, accuracy))\n",
    "    print(f\"Config: {config}, Accuracy: {accuracy:.4f}\")\n",
    "\n",
    "# Find the best configuration\n",
    "best_config = max(results, key=lambda x: x[1])\n",
    "print(f\"Best configuration: {best_config[0]} with accuracy: {best_config[1]:.4f}\")\n"
   ]
  },
  {
   "cell_type": "markdown",
   "metadata": {
    "_uuid": "59ad9da159449a3ed9e99ed0ec931ee14b7aab66"
   },
   "source": [
    "<a id=\"12\"></a> <br>\n",
    "## Attributions and License:\n",
    "\n",
    "Code snippets are based on [https://www.kaggle.com/code/kanncaa1/deep-learning-tutorial-for-beginners/notebook].\n",
    "\n",
    "This work is licensed under the [Apache 2.0](https://www.apache.org/licenses/LICENSE-2.0) open source license.\n"
   ]
  },
  {
   "cell_type": "code",
   "execution_count": null,
   "metadata": {},
   "outputs": [],
   "source": []
  }
 ],
 "metadata": {
  "kernelspec": {
   "display_name": "base",
   "language": "python",
   "name": "python3"
  },
  "language_info": {
   "codemirror_mode": {
    "name": "ipython",
    "version": 3
   },
   "file_extension": ".py",
   "mimetype": "text/x-python",
   "name": "python",
   "nbconvert_exporter": "python",
   "pygments_lexer": "ipython3",
   "version": "3.12.4"
  }
 },
 "nbformat": 4,
 "nbformat_minor": 1
}
