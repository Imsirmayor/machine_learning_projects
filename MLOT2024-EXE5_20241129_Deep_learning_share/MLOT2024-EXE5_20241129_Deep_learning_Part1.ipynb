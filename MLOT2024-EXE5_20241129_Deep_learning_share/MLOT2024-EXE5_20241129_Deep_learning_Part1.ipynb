{
 "cells": [
  {
   "cell_type": "markdown",
   "metadata": {},
   "source": [
    "# NEURAL NETWORKS AND DEEP LEARNING, part 1\n",
    "\n",
    "Contents of this excercise:\n",
    "   \n",
    "1. [Introduction](#1)\n",
    "    1. [Overview the dataset](#2)\n",
    "1. [Logistic Regression](#3)\n",
    "    1. [Computation graph](#4)\n",
    "    1. [Initializing parameters](#5)\n",
    "    1. [Feed Forward](#6)\n",
    "    1. [Back propagation - optimization using Gradient Descent](#7)\n",
    "    1. [Logistic Regression with Sklearn](#8)\n",
    "    1. [TODO No. 1: Compare logistic regression and SVM to classify 3 and 8 signes](#9)\n"
   ]
  },
  {
   "cell_type": "markdown",
   "metadata": {
    "_cell_guid": "036bf2c0-c146-4c70-b29d-206db0fe91b0",
    "_uuid": "01d54760756dd2bc5c2a309f2862833c079a3303"
   },
   "source": [
    "<a id=\"1\"></a> <br>\n",
    "## 1. INTRODUCTION\n",
    "* **Deep learning**: One of the machine learning technique that learns features directly from data.\n",
    "* **Why deep learning**: When the amount of data is increased, machine learning techniques are insufficient in terms of performance and deep learning gives better performance, e.g. accuracy.\n",
    "* **What is \"big\" amount of data**: It is hard to answer, but nowadays we are dealing with millions of samples \n",
    "* **Application areas of deep learning**: Speech recognition, image classification, natural language procession (NLP), recommendation systems…\n",
    "* **What is difference between deep learning and machine learning**:\n",
    "    * Machine learning includes deep learning.\n",
    "    * Features are given to machine learning manually.\n",
    "    * On the other hand, deep learning most commonly learns features directly from data.\n",
    "\n",
    "<a href=\"http://ibb.co/f8Epqx\"><img src=\"http://preview.ibb.co/hgpNAx/2.png\" alt=\"2\" border=\"0\"></a>\n",
    "\n",
    "<br>Let's start."
   ]
  },
  {
   "cell_type": "code",
   "execution_count": 1,
   "metadata": {
    "_cell_guid": "6fe1e8d5-b36d-4e39-9a9b-34618b5e275e",
    "_uuid": "79f18357b846d2cd91e0f7b2389e1dba8097cbdb"
   },
   "outputs": [],
   "source": [
    "import numpy as np # linear algebra\n",
    "import pandas as pd # data processing\n",
    "import matplotlib.pyplot as plt\n",
    "from sklearn import svm\n"
   ]
  },
  {
   "cell_type": "markdown",
   "metadata": {
    "_cell_guid": "62bb7abd-122c-4f87-97ad-eb203e9dea1f",
    "_uuid": "3e3e94ca5c9349ac36416482d30af378966c7a8a"
   },
   "source": [
    "<a id=\"Overview the Data Set\"></a> <br>\n",
    "### 1.1 Dataset overview\n",
    "* We will use sign language digits data set.\n",
    "* There are 2062 sign language digits images in this dataset.\n",
    "* As you know digits are numbers from 0 to 9, therefore there are 10 unique signs.\n",
    "* At the beginning of this exercise we will use only sign 0 and 1 for simplicity. \n",
    "* In oue dataset, sign zero is between indexes 204 and 408, so number of samples is 205.\n",
    "* Also sign one is between indexes 822 and 1027, with number of samples 206. Therefore, we will use 205 samples from each class (label).\n",
    "* Note: Actually 205 samples is not enough for deep learning, but the priciple stays the same. \n",
    "* Lets prepare our X and Y arrays. X is image array (zero and one signs) and Y is label array (0 and 1)."
   ]
  },
  {
   "cell_type": "code",
   "execution_count": 2,
   "metadata": {
    "_cell_guid": "4768ce70-3e7f-4ac9-8764-642e88006b77",
    "_uuid": "d6b38399b27c2d723750c0b4f8787a7d6d0025ea"
   },
   "outputs": [
    {
     "name": "stdout",
     "output_type": "stream",
     "text": [
      "(2062, 64, 64)\n"
     ]
    },
    {
     "data": {
      "image/png": "[encoded data removed]",
      "text/plain": [
       "<Figure size 640x480 with 2 Axes>"
      ]
     },
     "metadata": {},
     "output_type": "display_data"
    }
   ],
   "source": [
    "# load data set\n",
    "x_l = np.load('./input/Sign-language-digits-dataset/X.npy')\n",
    "Y_l = np.load('./input/Sign-language-digits-dataset/Y.npy')\n",
    "print(x_l.shape)\n",
    "plt.subplot(1, 2, 1)\n",
    "plt.imshow(x_l[408])\n",
    "plt.axis('off')\n",
    "plt.subplot(1, 2, 2)\n",
    "plt.imshow(x_l[1000])\n",
    "plt.axis('off')\n",
    "plt.show()"
   ]
  },
  {
   "cell_type": "markdown",
   "metadata": {
    "_cell_guid": "1c9cf8f2-f318-4f69-b92e-9c1bfe78c2c7",
    "_uuid": "c12d1854c6f5fb43c8f081083a441585ed48dc93"
   },
   "source": [
    "* In order to create the images array for training, we should concatenate zero sign and one sign arrays\n",
    "* Then we should create label (target) array, with labels: 0 for zero sign images and 1 for one sign images."
   ]
  },
  {
   "cell_type": "code",
   "execution_count": 3,
   "metadata": {
    "_cell_guid": "88a9b18b-12c7-46d6-8370-e2f02b55dd7a",
    "_uuid": "ad417f6189b0d9476388d92b6be09c887f7f1a40"
   },
   "outputs": [
    {
     "name": "stdout",
     "output_type": "stream",
     "text": [
      "X shape:  (410, 64, 64)\n",
      "Y shape:  (410, 1)\n"
     ]
    }
   ],
   "source": [
    "# Join a sequence of arrays along an row axis.\n",
    "X = np.concatenate((x_l[204:409], x_l[822:1027] ), axis=0) # from 0 to 204 is zero sign and from 205 to 410 is one sign \n",
    "z = np.zeros(205)\n",
    "o = np.ones(205)\n",
    "Y = np.concatenate((z, o), axis=0).reshape(X.shape[0],1)\n",
    "print(\"X shape: \" , X.shape)\n",
    "print(\"Y shape: \" , Y.shape)"
   ]
  },
  {
   "cell_type": "code",
   "execution_count": null,
   "metadata": {},
   "outputs": [],
   "source": []
  },
  {
   "cell_type": "markdown",
   "metadata": {
    "_cell_guid": "d6024477-cf34-40f9-b079-8388b5146e1b",
    "_uuid": "a999c02e74af603d65a4442842d739aa351f593c"
   },
   "source": [
    "* The shape of the X is (410, 64, 64)\n",
    "    * 410 means that we have 410 images (zero and one signs)\n",
    "    * 64 means that our image size is 64x64 (64x64 pixels)\n",
    "* The shape of the Y is (410,1)\n",
    "    *  410 means that we have 410 labels (0 and 1) \n",
    "* Lets split X and Y into train and test sets.\n",
    "    * test_size = percentage of test size (test = 15% and train = 85%)\n",
    "    * random_state = use same seed while randomizing. It means that if we call train_test_split repeatedly, it always creates same train and test distribution because we have same random_state."
   ]
  },
  {
   "cell_type": "code",
   "execution_count": 4,
   "metadata": {
    "_cell_guid": "00db1f03-75d3-48dc-a6fb-824a58790d42",
    "_uuid": "82869efdb6890ede1899c1bc8c90fa8b1caceec3"
   },
   "outputs": [
    {
     "name": "stdout",
     "output_type": "stream",
     "text": [
      "348\n",
      "62\n",
      "(348, 64, 64)\n",
      "(348, 1)\n"
     ]
    }
   ],
   "source": [
    "# Then lets create x_train, y_train, x_test, y_test arrays\n",
    "from sklearn.model_selection import train_test_split\n",
    "X_train, X_test, Y_train, Y_test = train_test_split(X, Y, test_size=0.15, random_state=42)\n",
    "number_of_train = X_train.shape[0]\n",
    "number_of_test = X_test.shape[0]\n",
    "print(number_of_train)\n",
    "print(number_of_test)\n",
    "print(X_train.shape)\n",
    "print(Y_train.shape)"
   ]
  },
  {
   "cell_type": "markdown",
   "metadata": {
    "_cell_guid": "4bb55e07-cabb-46ce-b21a-fe4a7b34995f",
    "_uuid": "e294dc952e7ba34569162a8965680ead8edd2834"
   },
   "source": [
    "* Now we have 3 dimensional input array (X) so we need to flatten it (2D) in order to use it as an input for our first deep learning model.\n",
    "* Our label array (Y) is already flatten (2D) so we leave it like that.\n",
    "* Lets flatten X array (images array).\n"
   ]
  },
  {
   "cell_type": "code",
   "execution_count": 5,
   "metadata": {
    "_cell_guid": "f5937123-1e16-4036-844b-f498ed42e504",
    "_uuid": "f8b7203144bc85873d960f765e2bb3e711b57f30"
   },
   "outputs": [
    {
     "name": "stdout",
     "output_type": "stream",
     "text": [
      "X train flatten (348, 4096)\n",
      "X test flatten (62, 4096)\n"
     ]
    }
   ],
   "source": [
    "X_train_flatten = X_train.reshape(number_of_train,X_train.shape[1]*X_train.shape[2])\n",
    "X_test_flatten = X_test .reshape(number_of_test,X_test.shape[1]*X_test.shape[2])\n",
    "print(\"X train flatten\",X_train_flatten.shape)\n",
    "print(\"X test flatten\",X_test_flatten.shape)"
   ]
  },
  {
   "cell_type": "markdown",
   "metadata": {
    "_cell_guid": "dab40a5b-e319-4807-a608-12065d860847",
    "_uuid": "cb26fc242ffcae8bf8f164d32dc9c5436e8312fc"
   },
   "source": [
    "* As you can see, we have 348 images and each image has 4096 pixels in image train array.\n",
    "* Also, we have 62 images and each image has 4096 pixels in image test array.\n",
    "* Then lets transpose our data (not necessary, but following code looks more \"clean\" with this)"
   ]
  },
  {
   "cell_type": "code",
   "execution_count": 6,
   "metadata": {
    "_cell_guid": "ad9bee66-78f1-44ec-a114-465356b9cc7d",
    "_uuid": "88eef1b839ee51234a53da3ccb1e36a2e5e9a0e6"
   },
   "outputs": [
    {
     "name": "stdout",
     "output_type": "stream",
     "text": [
      "x train:  (4096, 348)\n",
      "x test:  (4096, 62)\n",
      "y train:  (1, 348)\n",
      "y test:  (1, 62)\n"
     ]
    }
   ],
   "source": [
    "x_train = X_train_flatten.T\n",
    "x_test = X_test_flatten.T\n",
    "y_train = Y_train.T\n",
    "y_test = Y_test.T\n",
    "print(\"x train: \",x_train.shape)\n",
    "print(\"x test: \",x_test.shape)\n",
    "print(\"y train: \",y_train.shape)\n",
    "print(\"y test: \",y_test.shape)"
   ]
  },
  {
   "cell_type": "markdown",
   "metadata": {
    "_cell_guid": "0dfdae4c-5c3e-4ebd-8714-2ecf974ef2fa",
    "_uuid": "ed7b18eea8062e401823686bb2f672e1c548fac0"
   },
   "source": [
    "<font color='purple'>\n",
    "Our final inputs (images) and outputs (labels or classes) look like this:\n",
    "<a href=\"http://ibb.co/bWMK7c\"><img src=\"http://image.ibb.co/fOqCSc/3.png\" alt=\"3\" border=\"0\"></a>"
   ]
  },
  {
   "cell_type": "markdown",
   "metadata": {
    "_cell_guid": "8b5f8812-f21c-4936-91b9-d33048dec40b",
    "_uuid": "5f037b5d3f44a9bf139dddb7946c0b33cf7d0298",
    "collapsed": true
   },
   "source": [
    "<a id=\"3\"></a> <br>\n",
    "## 2. Logistic Regression\n",
    "**Logistic regression is a very simple neural network!** \n"
   ]
  },
  {
   "cell_type": "markdown",
   "metadata": {
    "_cell_guid": "9db2d7f4-0393-47d2-bbf3-88600177b4d1",
    "_uuid": "e2f49564d7d487417546d3b1ce94bc63e6394632"
   },
   "source": [
    "<a id=\"4\"></a> <br>\n",
    "### 2.1  Computation graph\n"
   ]
  },
  {
   "cell_type": "markdown",
   "metadata": {
    "_cell_guid": "7c968bd6-39d6-4497-add1-6fd1eb331659",
    "_uuid": "5060aff503466a5c54bcf76a545484abda032e03"
   },
   "source": [
    "* Computation graph of logistic regression\n",
    "<a href=\"http://ibb.co/c574qx\"><img src=\"http://preview.ibb.co/cxP63H/5.jpg\" alt=\"5\" border=\"0\"></a>\n",
    "    * Input: *x* = [px1 px2 … px4096]\n",
    "    * Target: *y* has value 0 or 1\n",
    "    * Weights: *w* = [w1 w2 … w4096]\n",
    "    * Output: *y_head* is in range (0,1)\n",
    "    * *z = (w.T)x + b*  => z equals to (transpose of weights times input x) + bias \n",
    "    * => *z = b + px1*w1 + px2*w2 + ... + px4096*w4096*\n",
    "    * *y_head = sigmoid(z)*\n"
   ]
  },
  {
   "cell_type": "markdown",
   "metadata": {
    "_cell_guid": "b9ec7e1d-186b-4911-be80-bc856f43b689",
    "_uuid": "40c4a1af2372960d36b6649f5baf4915e9e16738"
   },
   "source": [
    "<a id=\"5\"></a> <br>\n",
    "### 2.2 Initializing parameters\n",
    "* Input is the set of our images (each image in x_train has 4096 pixels).\n",
    "* Each pixel has its own weights.\n",
    "* The first step is multiplying pixels with their own weights.\n",
    "* The question is that what is the initial value of weights?\n",
    "    * You can randomly select initial values, or you can use some specialized techniques.\n",
    "    * For simplicity let's assume for now that initial weights are equal to 0.01 and that initial bias is 0.\n"
   ]
  },
  {
   "cell_type": "code",
   "execution_count": 7,
   "metadata": {
    "_cell_guid": "74d461fc-4aa9-4b76-bd26-43551cef138b",
    "_uuid": "f3be95b8ca86fea08336badabf563b5f8f59a142"
   },
   "outputs": [],
   "source": [
    "# Short description and example of definition (def)\n",
    "def dummy(parameter):\n",
    "    dummy_parameter = parameter + 5\n",
    "    return dummy_parameter\n",
    "result = dummy(3)     # result = 8\n",
    "\n",
    "# let's initialize parameters\n",
    "def initialize_weights_and_bias(dimension):\n",
    "    w = np.full((dimension,1),0.01)\n",
    "    b = 0.0\n",
    "    return w, b"
   ]
  },
  {
   "cell_type": "code",
   "execution_count": 8,
   "metadata": {
    "_uuid": "d71d5b420ee146833d479781ea889eeebcb74e47"
   },
   "outputs": [
    {
     "name": "stdout",
     "output_type": "stream",
     "text": [
      "[[0.01]\n",
      " [0.01]\n",
      " [0.01]\n",
      " ...\n",
      " [0.01]\n",
      " [0.01]\n",
      " [0.01]]\n",
      "0.0\n"
     ]
    }
   ],
   "source": [
    "w,b = initialize_weights_and_bias(4096)\n",
    "print(w)\n",
    "print(b)"
   ]
  },
  {
   "cell_type": "markdown",
   "metadata": {
    "_cell_guid": "1fbf27d5-1f4b-4b94-a757-99e2becf54a0",
    "_uuid": "dde6fab55966b2de3dc808e03613df9bea7bb0d2"
   },
   "source": [
    "<a id=\"6\"></a> <br>\n",
    "### 2.3 Feed Forward\n",
    "* *z = (w.T)x + b*\n",
    "* *y_head = sigmoid(z)*\n",
    "* Then we calculate loss function\n",
    "    * *J = - (1-y) log(1- y_head) - y log(y_head)*\n",
    "\n"
   ]
  },
  {
   "cell_type": "code",
   "execution_count": 9,
   "metadata": {
    "_cell_guid": "697be401-792b-46c0-8fe6-79cd65110419",
    "_uuid": "e024479bce9ce2022f65ffd586a6c29b124e7ab5"
   },
   "outputs": [],
   "source": [
    "# Definition of sigmoid\n",
    "def sigmoid(z):\n",
    "    y_head = 1/(1+np.exp(-z))\n",
    "    return y_head"
   ]
  },
  {
   "cell_type": "code",
   "execution_count": 10,
   "metadata": {
    "_uuid": "da7e0244449200eaf382507806f01901f1d281c8"
   },
   "outputs": [
    {
     "data": {
      "text/plain": [
       "np.float64(0.5)"
      ]
     },
     "execution_count": 10,
     "metadata": {},
     "output_type": "execute_result"
    }
   ],
   "source": [
    "y_head = sigmoid(0)\n",
    "y_head"
   ]
  },
  {
   "cell_type": "code",
   "execution_count": 11,
   "metadata": {
    "_cell_guid": "adbc7d22-8bba-48c1-b754-75c9d4f0543c",
    "_uuid": "447f1ee51819fdfeba0e1ce0b03449cb549510ed"
   },
   "outputs": [],
   "source": [
    "# Forward propagation steps:\n",
    "    # find z = w.T*x+b\n",
    "    # y_head = sigmoid(z)\n",
    "    # loss(error) = loss(y,y_head)\n",
    "    # cost = sum(loss)\n",
    "def forward_propagation(w,b,x_train,y_train):\n",
    "    z = np.dot(w.T,x_train) + b\n",
    "    y_head = sigmoid(z) # probability 0-1\n",
    "    loss = -y_train*np.log(y_head)-(1-y_train)*np.log(1-y_head)\n",
    "    cost = (np.sum(loss))/x_train.shape[1]\n",
    "    return cost "
   ]
  },
  {
   "cell_type": "markdown",
   "metadata": {
    "_cell_guid": "b4700f54-c2c5-4a53-ad1f-7fd63f5cd2e9",
    "_uuid": "e577873215128f94fea2eb328de90a4f32b7f803"
   },
   "source": [
    "<a id=\"7\"></a> <br>\n",
    "### 2.4  Back propagation - optimization using Gradient Descent\n",
    "\n",
    "* In order to decrease cost, we need to update weights and bias - gradient descent.\n",
    "* Recap from our lectures:\n",
    "\n",
    "$$ \\frac{\\partial J}{\\partial w} = \\frac{1}{m}x(  y_h - y)^T$$\n",
    "<br>\n",
    "$$ \\frac{\\partial J}{\\partial b} = \\frac{1}{m} \\sum_{i=1}^m (y_h-y)$$\n",
    "\n",
    "* For math enthusiasts https://medium.com/analytics-vidhya/derivative-of-log-loss-function-for-logistic-regression-9b832f025c2d "
   ]
  },
  {
   "cell_type": "code",
   "execution_count": 12,
   "metadata": {
    "_cell_guid": "2b74bb7c-bcbe-4865-ac61-25ced274e7de",
    "_uuid": "088f192f99d2a31f041116c893ec713ef3b4fe43"
   },
   "outputs": [],
   "source": [
    "# In back propagation we will use y_head calculated previously\n",
    "# Therefore instead of writing back propagation method, lets combine forward propagation and backward propagation\n",
    "def forward_backward_propagation(w,b,x_train,y_train):\n",
    "    # forward propagation\n",
    "    z = np.dot(w.T,x_train) + b\n",
    "    y_head = sigmoid(z)\n",
    "    loss = -y_train*np.log(y_head)-(1-y_train)*np.log(1-y_head)\n",
    "    cost = (np.sum(loss))/x_train.shape[1]\n",
    "    # backward propagation\n",
    "    derivative_weight = (np.dot(x_train,((y_head-y_train).T)))/x_train.shape[1] \n",
    "    derivative_bias = np.sum(y_head-y_train)/x_train.shape[1]                 \n",
    "    gradients = {\"derivative_weight\": derivative_weight, \"derivative_bias\": derivative_bias}\n",
    "    return cost,gradients"
   ]
  },
  {
   "cell_type": "code",
   "execution_count": 13,
   "metadata": {
    "_cell_guid": "0940e18d-636d-4503-a2c6-1994024726fe",
    "_uuid": "31299bda686ae2ab157ea18df70e4741e5225345"
   },
   "outputs": [],
   "source": [
    "# Updating (learning) parameters\n",
    "def update(w, b, x_train, y_train, learning_rate, number_of_iterarion):\n",
    "    cost_list = []\n",
    "    cost_list2 = []\n",
    "    index = []\n",
    "    # updating (learning) parameters is performed number_of_iterarion times\n",
    "    for i in range(number_of_iterarion):\n",
    "        # make forward and backward propagation and find cost and gradients\n",
    "        cost,gradients = forward_backward_propagation(w,b,x_train,y_train)\n",
    "        cost_list.append(cost)\n",
    "        # lets update\n",
    "        w = w - learning_rate * gradients[\"derivative_weight\"]\n",
    "        b = b - learning_rate * gradients[\"derivative_bias\"]\n",
    "        if i % 10 == 0:\n",
    "            cost_list2.append(cost)\n",
    "            index.append(i)\n",
    "            print (\"Cost after iteration %i: %f\" %(i, cost))\n",
    "    # update (learn) parameters weights and bias\n",
    "    parameters = {\"weight\": w,\"bias\": b}\n",
    "    plt.plot(index,cost_list2)\n",
    "    plt.xticks(index,rotation='vertical')\n",
    "    plt.xlabel(\"Number of Iterarion\")\n",
    "    plt.ylabel(\"Cost\")\n",
    "    plt.show()\n",
    "    return parameters, gradients, cost_list\n",
    "\n",
    "#parameters, gradients, cost_list = update(w, b, x_train, y_train, learning_rate = 0.009,number_of_iterarion = 200)"
   ]
  },
  {
   "cell_type": "code",
   "execution_count": 14,
   "metadata": {
    "_cell_guid": "1fd35d0f-e989-49fa-9bcb-1769d92a5ab4",
    "_uuid": "c9b80f081f49a722818cfebfc01e8b8dc69db9c1"
   },
   "outputs": [],
   "source": [
    " # prediction\n",
    "def predict(w,b,x_test):\n",
    "    # x_test is an input for forward propagation\n",
    "    z = sigmoid(np.dot(w.T,x_test)+b)\n",
    "    Y_prediction = np.zeros((1,x_test.shape[1]))\n",
    "    # if z > 0.5, our prediction is sign one (y_head=1),\n",
    "    # if z <= 0.5, our prediction is sign zero (y_head=0),\n",
    "    for i in range(z.shape[1]):\n",
    "        if z[0,i]<= 0.5:\n",
    "            Y_prediction[0,i] = 0\n",
    "        else:\n",
    "            Y_prediction[0,i] = 1\n",
    "\n",
    "    return Y_prediction\n",
    "\n",
    "# predict(parameters[\"weight\"],parameters[\"bias\"],x_test)"
   ]
  },
  {
   "cell_type": "markdown",
   "metadata": {
    "_cell_guid": "ce815319-161b-408b-84fe-4bb1fab92d13",
    "_uuid": "40dbb73794b6b742b01e33038284aa9f11cc698c"
   },
   "source": [
    "* Now let's put all together."
   ]
  },
  {
   "cell_type": "code",
   "execution_count": 15,
   "metadata": {
    "_cell_guid": "029e2cd3-125b-4ca4-8b94-25d8164ba1a7",
    "_uuid": "81fb6989ff3860d72462f8212b1d00325272a471"
   },
   "outputs": [
    {
     "name": "stdout",
     "output_type": "stream",
     "text": [
      "Cost after iteration 0: 14.014222\n",
      "Cost after iteration 10: 2.544689\n",
      "Cost after iteration 20: 2.577950\n",
      "Cost after iteration 30: 2.397999\n",
      "Cost after iteration 40: 2.185019\n",
      "Cost after iteration 50: 1.968348\n",
      "Cost after iteration 60: 1.754195\n",
      "Cost after iteration 70: 1.535079\n",
      "Cost after iteration 80: 1.297567\n",
      "Cost after iteration 90: 1.031919\n",
      "Cost after iteration 100: 0.737019\n",
      "Cost after iteration 110: 0.441355\n",
      "Cost after iteration 120: 0.252278\n",
      "Cost after iteration 130: 0.205168\n",
      "Cost after iteration 140: 0.196168\n"
     ]
    },
    {
     "data": {
      "image/png": "[encoded data removed]",
      "text/plain": [
       "<Figure size 640x480 with 1 Axes>"
      ]
     },
     "metadata": {},
     "output_type": "display_data"
    },
    {
     "name": "stdout",
     "output_type": "stream",
     "text": [
      "train accuracy: 92.816091954023 %\n",
      "test accuracy: 93.54838709677419 %\n"
     ]
    }
   ],
   "source": [
    "def logistic_regression(x_train, y_train, x_test, y_test, learning_rate, num_iterations):\n",
    "    # initialize\n",
    "    dimension =  x_train.shape[0]  # that is 4096\n",
    "    w,b = initialize_weights_and_bias(dimension)\n",
    "\n",
    "    parameters, gradients, cost_list = update(w, b, x_train, y_train, learning_rate, num_iterations)\n",
    "    \n",
    "    y_prediction_test = predict(parameters[\"weight\"],parameters[\"bias\"],x_test)\n",
    "    y_prediction_train = predict(parameters[\"weight\"],parameters[\"bias\"],x_train)\n",
    "\n",
    "    # Print train/test Errors\n",
    "    print(\"train accuracy: {} %\".format(100 - np.mean(np.abs(y_prediction_train - y_train)) * 100))\n",
    "    print(\"test accuracy: {} %\".format(100 - np.mean(np.abs(y_prediction_test - y_test)) * 100))\n",
    "    \n",
    "logistic_regression(x_train, y_train, x_test, y_test, learning_rate = 0.01, num_iterations = 150)"
   ]
  },
  {
   "cell_type": "markdown",
   "metadata": {
    "_cell_guid": "119db4ab-f04c-41c0-aef9-728565786e94",
    "_uuid": "ba8b9c960d1735b146fbbad378c90902e7218d59"
   },
   "source": [
    "<a id=\"8\"></a> <br>\n",
    "### 2.5 Logistic Regression with Sklearn\n",
    "* Now let's do all of these in one line of code :-)\n",
    "* In sklearn library, there is a logistic regression method that ease implementing logistic regression.\n",
    "* http://scikit-learn.org/stable/modules/generated/sklearn.linear_model.LogisticRegression.html\n"
   ]
  },
  {
   "cell_type": "code",
   "execution_count": 16,
   "metadata": {
    "_cell_guid": "5bc37200-cd53-4da3-a2ef-c630cf1a2d10",
    "_uuid": "a13b1565f8a5ae234eaa9ed6da288103a3579938"
   },
   "outputs": [
    {
     "name": "stderr",
     "output_type": "stream",
     "text": [
      "c:\\Users\\mayow\\AppData\\Local\\Programs\\Python\\Python312\\Lib\\site-packages\\sklearn\\utils\\validation.py:1339: DataConversionWarning: A column-vector y was passed when a 1d array was expected. Please change the shape of y to (n_samples, ), for example using ravel().\n",
      "  y = column_or_1d(y, warn=True)\n"
     ]
    },
    {
     "name": "stdout",
     "output_type": "stream",
     "text": [
      "test accuracy: 0.967741935483871 \n"
     ]
    },
    {
     "name": "stderr",
     "output_type": "stream",
     "text": [
      "c:\\Users\\mayow\\AppData\\Local\\Programs\\Python\\Python312\\Lib\\site-packages\\sklearn\\utils\\validation.py:1339: DataConversionWarning: A column-vector y was passed when a 1d array was expected. Please change the shape of y to (n_samples, ), for example using ravel().\n",
      "  y = column_or_1d(y, warn=True)\n"
     ]
    },
    {
     "name": "stdout",
     "output_type": "stream",
     "text": [
      "train accuracy: 1.0 \n"
     ]
    }
   ],
   "source": [
    "from sklearn import linear_model\n",
    "logreg = linear_model.LogisticRegression(random_state = 42,max_iter= 1000)\n",
    "print(\"test accuracy: {} \".format(logreg.fit(x_train.T, y_train.T).score(x_test.T, y_test.T)))\n",
    "print(\"train accuracy: {} \".format(logreg.fit(x_train.T, y_train.T).score(x_train.T, y_train.T)))"
   ]
  },
  {
   "cell_type": "markdown",
   "metadata": {},
   "source": [
    "<a id=\"9\"></a> <br>\n",
    "### TODO No. 1: Compare logistic regression and SVM to classify 3 and 8 signs\n",
    "\n",
    "* Sort out the problem causing the warning in the previous cell. Why this happend?\n",
    "* Apply manually defined logistic regression, with couple of different learning rate values\n",
    "* Apply sklearn based logistic regression and tune learning rate\n",
    "* Apply SVM\n",
    "* Compare all results"
   ]
  },
  {
   "cell_type": "code",
   "execution_count": 17,
   "metadata": {},
   "outputs": [
    {
     "name": "stdout",
     "output_type": "stream",
     "text": [
      "test accuracy: 0.967741935483871 \n",
      "train accuracy: 1.0 \n"
     ]
    }
   ],
   "source": [
    "logreg = linear_model.LogisticRegression(random_state=42, max_iter=1000)\n",
    "\n",
    "# Ensure y_train and y_test are 1D arrays\n",
    "y_train_1d = y_train.ravel()\n",
    "y_test_1d = y_test.ravel()\n",
    "\n",
    "print(\"test accuracy: {} \".format(logreg.fit(x_train.T, y_train_1d).score(x_test.T, y_test_1d)))\n",
    "print(\"train accuracy: {} \".format(logreg.fit(x_train.T, y_train_1d).score(x_train.T, y_train_1d)))"
   ]
  },
  {
   "cell_type": "code",
   "execution_count": 18,
   "metadata": {},
   "outputs": [
    {
     "name": "stdout",
     "output_type": "stream",
     "text": [
      "Learning rate: 0.001\n",
      "Cost after iteration 0: 14.014222\n",
      "Cost after iteration 10: 9.140082\n",
      "Cost after iteration 20: 4.266320\n",
      "Cost after iteration 30: 0.700054\n",
      "Cost after iteration 40: 0.672925\n",
      "Cost after iteration 50: 0.660285\n",
      "Cost after iteration 60: 0.648153\n",
      "Cost after iteration 70: 0.636504\n",
      "Cost after iteration 80: 0.625316\n",
      "Cost after iteration 90: 0.614567\n",
      "Cost after iteration 100: 0.604235\n",
      "Cost after iteration 110: 0.594302\n",
      "Cost after iteration 120: 0.584747\n",
      "Cost after iteration 130: 0.575551\n",
      "Cost after iteration 140: 0.566698\n"
     ]
    },
    {
     "data": {
      "image/png": "[encoded data removed]",
      "text/plain": [
       "<Figure size 640x480 with 1 Axes>"
      ]
     },
     "metadata": {},
     "output_type": "display_data"
    },
    {
     "name": "stdout",
     "output_type": "stream",
     "text": [
      "train accuracy: 91.95402298850574 %\n",
      "test accuracy: 93.54838709677419 %\n",
      "Learning rate: 0.01\n",
      "Cost after iteration 0: 14.014222\n",
      "Cost after iteration 10: 2.544689\n",
      "Cost after iteration 20: 2.577950\n",
      "Cost after iteration 30: 2.397999\n",
      "Cost after iteration 40: 2.185019\n",
      "Cost after iteration 50: 1.968348\n",
      "Cost after iteration 60: 1.754195\n",
      "Cost after iteration 70: 1.535079\n",
      "Cost after iteration 80: 1.297567\n",
      "Cost after iteration 90: 1.031919\n",
      "Cost after iteration 100: 0.737019\n",
      "Cost after iteration 110: 0.441355\n",
      "Cost after iteration 120: 0.252278\n",
      "Cost after iteration 130: 0.205168\n",
      "Cost after iteration 140: 0.196168\n"
     ]
    },
    {
     "data": {
      "image/png": "[encoded data removed]",
      "text/plain": [
       "<Figure size 640x480 with 1 Axes>"
      ]
     },
     "metadata": {},
     "output_type": "display_data"
    },
    {
     "name": "stdout",
     "output_type": "stream",
     "text": [
      "train accuracy: 92.816091954023 %\n",
      "test accuracy: 93.54838709677419 %\n",
      "Learning rate: 0.1\n",
      "Cost after iteration 0: 14.014222\n",
      "Cost after iteration 10: nan\n"
     ]
    },
    {
     "name": "stderr",
     "output_type": "stream",
     "text": [
      "C:\\Users\\mayow\\AppData\\Local\\Temp\\ipykernel_13740\\4098340146.py:7: RuntimeWarning: divide by zero encountered in log\n",
      "  loss = -y_train*np.log(y_head)-(1-y_train)*np.log(1-y_head)\n",
      "C:\\Users\\mayow\\AppData\\Local\\Temp\\ipykernel_13740\\4098340146.py:7: RuntimeWarning: invalid value encountered in multiply\n",
      "  loss = -y_train*np.log(y_head)-(1-y_train)*np.log(1-y_head)\n"
     ]
    },
    {
     "name": "stdout",
     "output_type": "stream",
     "text": [
      "Cost after iteration 20: nan\n",
      "Cost after iteration 30: nan\n",
      "Cost after iteration 40: nan\n",
      "Cost after iteration 50: nan\n",
      "Cost after iteration 60: nan\n",
      "Cost after iteration 70: nan\n",
      "Cost after iteration 80: nan\n",
      "Cost after iteration 90: nan\n",
      "Cost after iteration 100: nan\n",
      "Cost after iteration 110: nan\n",
      "Cost after iteration 120: nan\n",
      "Cost after iteration 130: nan\n",
      "Cost after iteration 140: nan\n"
     ]
    },
    {
     "data": {
      "image/png": "[encoded data removed]",
      "text/plain": [
       "<Figure size 640x480 with 1 Axes>"
      ]
     },
     "metadata": {},
     "output_type": "display_data"
    },
    {
     "name": "stdout",
     "output_type": "stream",
     "text": [
      "train accuracy: 92.816091954023 %\n",
      "test accuracy: 95.16129032258064 %\n",
      "test accuracy: 0.9516129032258065 \n",
      "train accuracy: 0.9971264367816092 \n"
     ]
    }
   ],
   "source": [
    "# Apply manually defined logistic regression with a couple of different learning rate values\n",
    "learning_rates = [0.001, 0.01, 0.1]\n",
    "\n",
    "for lr in learning_rates:\n",
    "\tprint(f\"Learning rate: {lr}\")\n",
    "\tlogistic_regression(x_train, y_train, x_test, y_test, learning_rate=lr, num_iterations=150)\n",
    "\n",
    "# Apply sklearn based logistic regression and tune learning rate\n",
    "logreg = linear_model.LogisticRegression(random_state=42, max_iter=1000, C=0.1)\n",
    "print(\"test accuracy: {} \".format(logreg.fit(x_train.T, y_train_1d).score(x_test.T, y_test_1d)))\n",
    "print(\"train accuracy: {} \".format(logreg.fit(x_train.T, y_train_1d).score(x_train.T, y_train_1d)))\n"
   ]
  },
  {
   "cell_type": "code",
   "execution_count": 19,
   "metadata": {},
   "outputs": [
    {
     "name": "stdout",
     "output_type": "stream",
     "text": [
      "Best parameters:  {'C': 10}\n",
      "Best cross-validation accuracy: 0.98\n",
      "Test accuracy: 0.97\n",
      "SVM Test accuracy: 0.97\n",
      "Comparison of different models:\n",
      "Logistic Regression with GridSearchCV:\n",
      "Best parameters:  {'C': 10}\n",
      "Best cross-validation accuracy: 0.98\n",
      "Test accuracy: 0.97\n",
      "\n",
      "Manually defined Logistic Regression with different learning rates:\n",
      "Learning rate: 0.001\n",
      "Cost after iteration 0: 14.014222\n",
      "Cost after iteration 10: 9.140082\n",
      "Cost after iteration 20: 4.266320\n",
      "Cost after iteration 30: 0.700054\n",
      "Cost after iteration 40: 0.672925\n",
      "Cost after iteration 50: 0.660285\n",
      "Cost after iteration 60: 0.648153\n",
      "Cost after iteration 70: 0.636504\n",
      "Cost after iteration 80: 0.625316\n",
      "Cost after iteration 90: 0.614567\n",
      "Cost after iteration 100: 0.604235\n",
      "Cost after iteration 110: 0.594302\n",
      "Cost after iteration 120: 0.584747\n",
      "Cost after iteration 130: 0.575551\n",
      "Cost after iteration 140: 0.566698\n"
     ]
    },
    {
     "data": {
      "image/png": "[encoded data removed]",
      "text/plain": [
       "<Figure size 640x480 with 1 Axes>"
      ]
     },
     "metadata": {},
     "output_type": "display_data"
    },
    {
     "name": "stdout",
     "output_type": "stream",
     "text": [
      "train accuracy: 91.95402298850574 %\n",
      "test accuracy: 93.54838709677419 %\n",
      "Learning rate: 0.01\n",
      "Cost after iteration 0: 14.014222\n",
      "Cost after iteration 10: 2.544689\n",
      "Cost after iteration 20: 2.577950\n",
      "Cost after iteration 30: 2.397999\n",
      "Cost after iteration 40: 2.185019\n",
      "Cost after iteration 50: 1.968348\n",
      "Cost after iteration 60: 1.754195\n",
      "Cost after iteration 70: 1.535079\n",
      "Cost after iteration 80: 1.297567\n",
      "Cost after iteration 90: 1.031919\n",
      "Cost after iteration 100: 0.737019\n",
      "Cost after iteration 110: 0.441355\n",
      "Cost after iteration 120: 0.252278\n",
      "Cost after iteration 130: 0.205168\n",
      "Cost after iteration 140: 0.196168\n"
     ]
    },
    {
     "data": {
      "image/png": "[encoded data removed]",
      "text/plain": [
       "<Figure size 640x480 with 1 Axes>"
      ]
     },
     "metadata": {},
     "output_type": "display_data"
    },
    {
     "name": "stdout",
     "output_type": "stream",
     "text": [
      "train accuracy: 92.816091954023 %\n",
      "test accuracy: 93.54838709677419 %\n",
      "Learning rate: 0.1\n",
      "Cost after iteration 0: 14.014222\n"
     ]
    },
    {
     "name": "stderr",
     "output_type": "stream",
     "text": [
      "C:\\Users\\mayow\\AppData\\Local\\Temp\\ipykernel_13740\\4098340146.py:7: RuntimeWarning: divide by zero encountered in log\n",
      "  loss = -y_train*np.log(y_head)-(1-y_train)*np.log(1-y_head)\n",
      "C:\\Users\\mayow\\AppData\\Local\\Temp\\ipykernel_13740\\4098340146.py:7: RuntimeWarning: invalid value encountered in multiply\n",
      "  loss = -y_train*np.log(y_head)-(1-y_train)*np.log(1-y_head)\n"
     ]
    },
    {
     "name": "stdout",
     "output_type": "stream",
     "text": [
      "Cost after iteration 10: nan\n",
      "Cost after iteration 20: nan\n",
      "Cost after iteration 30: nan\n",
      "Cost after iteration 40: nan\n",
      "Cost after iteration 50: nan\n",
      "Cost after iteration 60: nan\n",
      "Cost after iteration 70: nan\n",
      "Cost after iteration 80: nan\n",
      "Cost after iteration 90: nan\n",
      "Cost after iteration 100: nan\n",
      "Cost after iteration 110: nan\n",
      "Cost after iteration 120: nan\n",
      "Cost after iteration 130: nan\n",
      "Cost after iteration 140: nan\n"
     ]
    },
    {
     "data": {
      "image/png": "[encoded data removed]",
      "text/plain": [
       "<Figure size 640x480 with 1 Axes>"
      ]
     },
     "metadata": {},
     "output_type": "display_data"
    },
    {
     "name": "stdout",
     "output_type": "stream",
     "text": [
      "train accuracy: 92.816091954023 %\n",
      "test accuracy: 95.16129032258064 %\n",
      "\n",
      "SVM:\n",
      "SVM Test accuracy: 0.97\n"
     ]
    }
   ],
   "source": [
    "from sklearn.model_selection import GridSearchCV\n",
    "from sklearn.linear_model import LogisticRegression\n",
    "\n",
    "# Define the parameter grid\n",
    "param_grid = {\n",
    "    'C': [0.001, 0.01, 0.1, 1, 10, 100]  # Inverse of regularization strength\n",
    "}\n",
    "\n",
    "# Create a logistic regression model\n",
    "logreg = LogisticRegression(max_iter=1000, random_state=42)\n",
    "\n",
    "# Create a GridSearchCV object\n",
    "grid_search = GridSearchCV(logreg, param_grid, cv=5, scoring='accuracy')\n",
    "\n",
    "# Fit the model to the training data\n",
    "grid_search.fit(x_train.T, y_train_1d)\n",
    "\n",
    "# Print the best parameters and the best score\n",
    "print(\"Best parameters: \", grid_search.best_params_)\n",
    "print(\"Best cross-validation accuracy: {:.2f}\".format(grid_search.best_score_))\n",
    "\n",
    "# Evaluate the model on the test data\n",
    "test_accuracy = grid_search.score(x_test.T, y_test_1d)\n",
    "print(\"Test accuracy: {:.2f}\".format(test_accuracy))\n",
    "\n",
    "\n",
    "\n",
    "# Apply SVM\n",
    "svm_model = svm.SVC(kernel='linear', C=1, random_state=42)\n",
    "svm_model.fit(x_train.T, y_train_1d)\n",
    "\n",
    "# Evaluate the SVM model on the test data\n",
    "svm_test_accuracy = svm_model.score(x_test.T, y_test_1d)\n",
    "print(\"SVM Test accuracy: {:.2f}\".format(svm_test_accuracy))\n",
    "\n",
    "# Compare all results\n",
    "print(\"Comparison of different models:\")\n",
    "\n",
    "# Logistic Regression with GridSearchCV\n",
    "print(\"Logistic Regression with GridSearchCV:\")\n",
    "print(\"Best parameters: \", grid_search.best_params_)\n",
    "print(\"Best cross-validation accuracy: {:.2f}\".format(grid_search.best_score_))\n",
    "print(\"Test accuracy: {:.2f}\".format(test_accuracy))\n",
    "\n",
    "# Manually defined Logistic Regression with different learning rates\n",
    "print(\"\\nManually defined Logistic Regression with different learning rates:\")\n",
    "for lr in learning_rates:\n",
    "    print(f\"Learning rate: {lr}\")\n",
    "    logistic_regression(x_train, y_train, x_test, y_test, learning_rate=lr, num_iterations=150)\n",
    "\n",
    "# SVM\n",
    "print(\"\\nSVM:\")\n",
    "print(\"SVM Test accuracy: {:.2f}\".format(svm_test_accuracy))"
   ]
  },
  {
   "cell_type": "markdown",
   "metadata": {
    "_cell_guid": "1a62d8b1-8308-4654-bdfd-479965ee08af",
    "_uuid": "dc3f380e7953a5c3bb6580b30c0da7cb94599c81"
   },
   "source": [
    "<a id=\"20\"></a> <br>\n",
    "## Attributions and License:\n",
    "\n",
    "Code snippets are based on [https://www.kaggle.com/code/kanncaa1/deep-learning-tutorial-for-beginners/notebook].\n",
    "\n",
    "This work is licensed under the [Apache 2.0](https://www.apache.org/licenses/LICENSE-2.0) open source license.\n"
   ]
  },
  {
   "cell_type": "code",
   "execution_count": null,
   "metadata": {},
   "outputs": [],
   "source": []
  }
 ],
 "metadata": {
  "kernelspec": {
   "display_name": "Python 3",
   "language": "python",
   "name": "python3"
  },
  "language_info": {
   "codemirror_mode": {
    "name": "ipython",
    "version": 3
   },
   "file_extension": ".py",
   "mimetype": "text/x-python",
   "name": "python",
   "nbconvert_exporter": "python",
   "pygments_lexer": "ipython3",
   "version": "3.12.4"
  }
 },
 "nbformat": 4,
 "nbformat_minor": 1
}
